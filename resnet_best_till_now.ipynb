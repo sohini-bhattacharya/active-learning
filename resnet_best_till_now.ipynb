{
  "nbformat": 4,
  "nbformat_minor": 0,
  "metadata": {
    "colab": {
      "provenance": []
    },
    "kernelspec": {
      "name": "python3",
      "display_name": "Python 3"
    },
    "language_info": {
      "name": "python"
    },
    "accelerator": "GPU",
    "gpuClass": "standard"
  },
  "cells": [
    {
      "cell_type": "code",
      "source": [
        "from __future__ import print_function\n",
        "import keras\n",
        "import tensorflow as tf\n",
        "from tensorflow.keras import layers, Model\n",
        "from keras.layers import Dense, Conv2D, BatchNormalization, Activation\n",
        "from keras.layers import AveragePooling2D, Input, Flatten\n",
        "from keras.optimizers import Adam\n",
        "from keras.layers import Dropout\n",
        "from keras.callbacks import ModelCheckpoint, LearningRateScheduler\n",
        "from keras.callbacks import ReduceLROnPlateau\n",
        "from keras.preprocessing.image import ImageDataGenerator\n",
        "from keras.regularizers import l2\n",
        "from keras import backend as K\n",
        "from keras.utils import to_categorical\n",
        "from keras.models import Model\n",
        "from keras.datasets import cifar10\n",
        "import numpy as np\n",
        "from tensorflow.keras.models import load_model\n",
        "from keras.applications import MobileNet\n",
        "import os\n",
        "import matplotlib.pyplot as plt\n",
        "from tensorflow.keras.callbacks import EarlyStopping\n",
        "import numpy as np\n",
        "import matplotlib.pyplot as plt\n",
        "\n",
        "\n",
        "from torchvision import transforms\n",
        "from torch.utils.data import Dataset\n",
        "from PIL import Image\n",
        "import math\n",
        "import os\n",
        "import pandas as pd\n",
        "import numpy as np\n",
        "from scipy.stats import randint\n",
        "import seaborn as sns # used for plot interactive graph. \n",
        "import matplotlib.pyplot as plt\n",
        "import seaborn as sns\n",
        "from io import StringIO\n",
        "from IPython.display import display\n",
        "from sklearn.model_selection import train_test_split\n",
        "from sklearn.feature_extraction.text import TfidfTransformer\n",
        "from sklearn.naive_bayes import MultinomialNB\n",
        "from sklearn.linear_model import LogisticRegression\n",
        "from sklearn.ensemble import RandomForestClassifier\n",
        "from sklearn.svm import LinearSVC\n",
        "from sklearn.model_selection import cross_val_score\n",
        "from sklearn.metrics import confusion_matrix\n",
        "from sklearn import metrics\n",
        "import zipfile\n",
        "import pandas as pd\n",
        "import numpy as np\n",
        "from scipy.stats import randint\n",
        "import seaborn as sns # used for plot interactive graph. \n",
        "import matplotlib.pyplot as plt\n",
        "import seaborn as sns\n",
        "from io import StringIO\n",
        "# Importing libraries\n",
        "from keras.datasets import imdb\n",
        "from keras.models import Sequential\n",
        "from keras.layers import Dense\n",
        "from keras.layers import Flatten\n",
        "from keras.layers.convolutional import Conv1D\n",
        "from keras.layers.convolutional import MaxPooling1D\n",
        "from keras.layers import Embedding\n",
        "from keras.preprocessing import sequence\n",
        "from sklearn.model_selection import train_test_split\n",
        "from sklearn.feature_extraction.text import TfidfTransformer\n",
        "from sklearn.naive_bayes import MultinomialNB\n",
        "from sklearn.linear_model import LogisticRegression\n",
        "from sklearn.ensemble import RandomForestClassifier\n",
        "from sklearn.svm import LinearSVC\n",
        "from sklearn.model_selection import cross_val_score\n",
        "from sklearn.metrics import confusion_matrix\n",
        "from sklearn import metrics\n",
        "from google.colab import drive\n",
        "import pandas as pd\n",
        "import tensorflow_datasets as tfds\n",
        "from keras.datasets import imdb\n",
        "from keras.models import Sequential\n",
        "from keras.layers.convolutional import Conv1D\n",
        "from keras.layers.convolutional import MaxPooling1D\n",
        "from tensorflow.python.keras.layers import Input, Dense\n",
        "from keras.preprocessing import sequence\n",
        "from keras.utils import pad_sequences\n",
        "from sklearn import preprocessing\n",
        "\n",
        "batch_size = 16\n",
        "epochs = 250\n",
        "data_augmentation = True\n",
        "num_classes = 10\n",
        "from keras.applications.vgg19 import VGG19\n",
        "subtract_pixel_mean = True"
      ],
      "metadata": {
        "id": "20_qa204yzx4"
      },
      "execution_count": null,
      "outputs": []
    },
    {
      "cell_type": "code",
      "execution_count": null,
      "metadata": {
        "colab": {
          "base_uri": "https://localhost:8080/"
        },
        "id": "CxJydk6CvsRX",
        "outputId": "2295b510-3033-4a8e-9b94-d98e45855515"
      },
      "outputs": [
        {
          "output_type": "stream",
          "name": "stdout",
          "text": [
            "Colab only includes TensorFlow 2.x; %tensorflow_version has no effect.\n",
            "Tensorflow version 2.9.2\n"
          ]
        }
      ],
      "source": [
        "import os, re, time, json\n",
        "import PIL.Image, PIL.ImageFont, PIL.ImageDraw\n",
        "import numpy as np\n",
        "try:\n",
        "  %tensorflow_version 2.x\n",
        "except Exception:\n",
        "  pass\n",
        "import tensorflow as tf\n",
        "from tensorflow.keras.applications.resnet50 import ResNet50\n",
        "from matplotlib import pyplot as plt\n",
        "import tensorflow_datasets as tfds\n",
        "\n",
        "print(\"Tensorflow version \" + tf.__version__)"
      ]
    },
    {
      "cell_type": "code",
      "source": [
        "# BATCH_SIZE = 32 \n",
        "classes = ['airplane', 'automobile', 'bird', 'cat', 'deer', 'dog', 'frog', 'horse', 'ship', 'truck']"
      ],
      "metadata": {
        "id": "Tk_-OmpfvvU9"
      },
      "execution_count": null,
      "outputs": []
    },
    {
      "cell_type": "code",
      "source": [
        "(training_images, training_labels) , (validation_images, validation_labels) = tf.keras.datasets.cifar10.load_data()"
      ],
      "metadata": {
        "colab": {
          "base_uri": "https://localhost:8080/"
        },
        "id": "c5Ol8CY_vwD9",
        "outputId": "e202d2de-6cd9-4318-f158-b6d592969629"
      },
      "execution_count": null,
      "outputs": [
        {
          "output_type": "stream",
          "name": "stdout",
          "text": [
            "Downloading data from https://www.cs.toronto.edu/~kriz/cifar-10-python.tar.gz\n",
            "170498071/170498071 [==============================] - 52s 0us/step\n"
          ]
        }
      ]
    },
    {
      "cell_type": "code",
      "source": [
        "def preprocess_image_input(input_images):\n",
        "  input_images = input_images.astype('float32')\n",
        "  output_ims = tf.keras.applications.resnet50.preprocess_input(input_images)\n",
        "  return output_ims"
      ],
      "metadata": {
        "id": "bq2rLXeav2ik"
      },
      "execution_count": null,
      "outputs": []
    },
    {
      "cell_type": "code",
      "source": [
        "train_X = preprocess_image_input(training_images)\n",
        "valid_X = preprocess_image_input(validation_images)"
      ],
      "metadata": {
        "id": "g41gWsEgv4fK"
      },
      "execution_count": null,
      "outputs": []
    },
    {
      "cell_type": "code",
      "source": [
        "def feature_extractor(inputs):\n",
        "\n",
        "  feature_extractor = tf.keras.applications.resnet.ResNet50(input_shape=(224, 224, 3),\n",
        "                                               include_top=False,\n",
        "                                               weights='imagenet')(inputs)\n",
        "  return feature_extractor\n",
        "\n",
        "def classifier(inputs):\n",
        "    x = tf.keras.layers.GlobalAveragePooling2D()(inputs)\n",
        "    x = tf.keras.layers.Flatten()(x)\n",
        "    x = tf.keras.layers.Dense(1024, activation=\"relu\")(x)\n",
        "    x = tf.keras.layers.Dense(512, activation=\"relu\")(x)\n",
        "    x = tf.keras.layers.Dense(10, activation=\"softmax\", name=\"classification\")(x)\n",
        "    return x"
      ],
      "metadata": {
        "id": "34ByhL7GwAD_"
      },
      "execution_count": null,
      "outputs": []
    },
    {
      "cell_type": "code",
      "source": [
        "def final_model(inputs):\n",
        "\n",
        "    resize = tf.keras.layers.UpSampling2D(size=(7,7))(inputs)\n",
        "\n",
        "    resnet_feature_extractor = feature_extractor(resize)\n",
        "    classification_output = classifier(resnet_feature_extractor)\n",
        "\n",
        "    return classification_output\n",
        "\n",
        "def define_compile_model():\n",
        "  inputs = tf.keras.layers.Input(shape=(32,32,3))\n",
        "  \n",
        "  classification_output = final_model(inputs) \n",
        "  model = tf.keras.Model(inputs=inputs, outputs = classification_output)\n",
        " \n",
        "  model.compile(optimizer='SGD', \n",
        "                loss='sparse_categorical_crossentropy',\n",
        "                metrics = ['accuracy'])\n",
        "  \n",
        "  return model"
      ],
      "metadata": {
        "id": "7i8yTAmOwCz_"
      },
      "execution_count": null,
      "outputs": []
    },
    {
      "cell_type": "code",
      "source": [
        "model = define_compile_model()\n",
        "\n",
        "model.summary()"
      ],
      "metadata": {
        "colab": {
          "base_uri": "https://localhost:8080/"
        },
        "id": "jrhsecaWwEnp",
        "outputId": "723a1a9d-c89c-4f13-f0a8-5570ed2fec86"
      },
      "execution_count": null,
      "outputs": [
        {
          "output_type": "stream",
          "name": "stdout",
          "text": [
            "Model: \"model_1\"\n",
            "_________________________________________________________________\n",
            " Layer (type)                Output Shape              Param #   \n",
            "=================================================================\n",
            " input_3 (InputLayer)        [(None, 32, 32, 3)]       0         \n",
            "                                                                 \n",
            " up_sampling2d_1 (UpSampling  (None, 224, 224, 3)      0         \n",
            " 2D)                                                             \n",
            "                                                                 \n",
            " resnet50 (Functional)       (None, 7, 7, 2048)        23587712  \n",
            "                                                                 \n",
            " global_average_pooling2d_1   (None, 2048)             0         \n",
            " (GlobalAveragePooling2D)                                        \n",
            "                                                                 \n",
            " flatten_1 (Flatten)         (None, 2048)              0         \n",
            "                                                                 \n",
            " dense_2 (Dense)             (None, 1024)              2098176   \n",
            "                                                                 \n",
            " dense_3 (Dense)             (None, 512)               524800    \n",
            "                                                                 \n",
            " classification (Dense)      (None, 10)                5130      \n",
            "                                                                 \n",
            "=================================================================\n",
            "Total params: 26,215,818\n",
            "Trainable params: 26,162,698\n",
            "Non-trainable params: 53,120\n",
            "_________________________________________________________________\n"
          ]
        }
      ]
    },
    {
      "cell_type": "code",
      "source": [
        "def lr_schedule(epoch):\n",
        "  lr = 1e-3\n",
        "  if epoch > 180:\n",
        "    lr *= 0.5e-3\n",
        "  elif epoch > 160:\n",
        "    lr *= 1e-3\n",
        "  elif epoch > 120:\n",
        "    lr *= 1e-2\n",
        "  elif epoch > 80:\n",
        "    lr *= 1e-1\n",
        "  print('Learning rate: ', lr)\n",
        "  return lr\n"
      ],
      "metadata": {
        "id": "rU22Yhd9M_kY"
      },
      "execution_count": null,
      "outputs": []
    },
    {
      "cell_type": "code",
      "source": [
        "save_dir = os.path.join(os.getcwd(), 'saved_models')\n",
        "model_name = 'cifar10_model.{epoch:03d}.h5'\n",
        "if not os.path.isdir(save_dir):\n",
        "  os.makedirs(save_dir)\n",
        "filepath = os.path.join(save_dir, model_name)\n",
        "checkpoint = ModelCheckpoint(filepath=filepath,\n",
        "                             monitor='val_acc',\n",
        "                             verbose=1,\n",
        "                             save_best_only=True)\n",
        "lr_scheduler = LearningRateScheduler(lr_schedule)\n",
        "lr_reducer = ReduceLROnPlateau(factor=np.sqrt(0.1),\n",
        "                               cooldown=0,\n",
        "                               patience=5,\n",
        "                               min_lr=0.5e-6)\n",
        "\n",
        "callbacks = [checkpoint, lr_reducer, lr_scheduler]\n"
      ],
      "metadata": {
        "id": "oe-_HTFBMsn2"
      },
      "execution_count": null,
      "outputs": []
    },
    {
      "cell_type": "code",
      "source": [
        "# EPOCHS = 3\n",
        "history = model.fit(train_X[:10000], training_labels[:10000], epochs=250, \n",
        "                    validation_data = (valid_X, validation_labels), batch_size=16, verbose=1, workers=4,\n",
        "                    callbacks=callbacks)"
      ],
      "metadata": {
        "colab": {
          "base_uri": "https://localhost:8080/",
          "height": 1000
        },
        "id": "wK6lIwuSwHQT",
        "outputId": "f848a661-51bd-4752-8f43-1711f5d38c3d"
      },
      "execution_count": null,
      "outputs": [
        {
          "output_type": "stream",
          "name": "stdout",
          "text": [
            "Learning rate:  0.001\n",
            "Epoch 1/250\n",
            "625/625 [==============================] - ETA: 0s - loss: 1.5433 - accuracy: 0.5249"
          ]
        },
        {
          "output_type": "stream",
          "name": "stderr",
          "text": [
            "WARNING:tensorflow:Can save best model only with val_acc available, skipping.\n"
          ]
        },
        {
          "output_type": "stream",
          "name": "stdout",
          "text": [
            "\b\b\b\b\b\b\b\b\b\b\b\b\b\b\b\b\b\b\b\b\b\b\b\b\b\b\b\b\b\b\b\b\b\b\b\b\b\b\b\b\b\b\b\b\b\b\b\b\b\b\b\b\b\b\b\b\b\b\b\b\b\b\b\b\b\b\b\b\b\b\b\b\b\b\b\b\b\b\b\b\b\b\b\b\r625/625 [==============================] - 148s 231ms/step - loss: 1.5433 - accuracy: 0.5249 - val_loss: 0.8257 - val_accuracy: 0.7473 - lr: 0.0010\n",
            "Learning rate:  0.001\n",
            "Epoch 2/250\n",
            "625/625 [==============================] - ETA: 0s - loss: 0.6672 - accuracy: 0.7960"
          ]
        },
        {
          "output_type": "stream",
          "name": "stderr",
          "text": [
            "WARNING:tensorflow:Can save best model only with val_acc available, skipping.\n"
          ]
        },
        {
          "output_type": "stream",
          "name": "stdout",
          "text": [
            "\b\b\b\b\b\b\b\b\b\b\b\b\b\b\b\b\b\b\b\b\b\b\b\b\b\b\b\b\b\b\b\b\b\b\b\b\b\b\b\b\b\b\b\b\b\b\b\b\b\b\b\b\b\b\b\b\b\b\b\b\b\b\b\b\b\b\b\b\b\b\b\b\b\b\b\b\b\b\b\b\b\b\b\b\r625/625 [==============================] - 144s 230ms/step - loss: 0.6672 - accuracy: 0.7960 - val_loss: 0.4835 - val_accuracy: 0.8398 - lr: 0.0010\n",
            "Learning rate:  0.001\n",
            "Epoch 3/250\n",
            "625/625 [==============================] - ETA: 0s - loss: 0.4233 - accuracy: 0.8675"
          ]
        },
        {
          "output_type": "stream",
          "name": "stderr",
          "text": [
            "WARNING:tensorflow:Can save best model only with val_acc available, skipping.\n"
          ]
        },
        {
          "output_type": "stream",
          "name": "stdout",
          "text": [
            "\b\b\b\b\b\b\b\b\b\b\b\b\b\b\b\b\b\b\b\b\b\b\b\b\b\b\b\b\b\b\b\b\b\b\b\b\b\b\b\b\b\b\b\b\b\b\b\b\b\b\b\b\b\b\b\b\b\b\b\b\b\b\b\b\b\b\b\b\b\b\b\b\b\b\b\b\b\b\b\b\b\b\b\b\r625/625 [==============================] - 143s 230ms/step - loss: 0.4233 - accuracy: 0.8675 - val_loss: 0.3772 - val_accuracy: 0.8727 - lr: 0.0010\n",
            "Learning rate:  0.001\n",
            "Epoch 4/250\n",
            "625/625 [==============================] - ETA: 0s - loss: 0.2955 - accuracy: 0.9072"
          ]
        },
        {
          "output_type": "stream",
          "name": "stderr",
          "text": [
            "WARNING:tensorflow:Can save best model only with val_acc available, skipping.\n"
          ]
        },
        {
          "output_type": "stream",
          "name": "stdout",
          "text": [
            "\b\b\b\b\b\b\b\b\b\b\b\b\b\b\b\b\b\b\b\b\b\b\b\b\b\b\b\b\b\b\b\b\b\b\b\b\b\b\b\b\b\b\b\b\b\b\b\b\b\b\b\b\b\b\b\b\b\b\b\b\b\b\b\b\b\b\b\b\b\b\b\b\b\b\b\b\b\b\b\b\b\b\b\b\r625/625 [==============================] - 131s 209ms/step - loss: 0.2955 - accuracy: 0.9072 - val_loss: 0.3228 - val_accuracy: 0.8910 - lr: 0.0010\n",
            "Learning rate:  0.001\n",
            "Epoch 5/250\n",
            "625/625 [==============================] - ETA: 0s - loss: 0.2152 - accuracy: 0.9329"
          ]
        },
        {
          "output_type": "stream",
          "name": "stderr",
          "text": [
            "WARNING:tensorflow:Can save best model only with val_acc available, skipping.\n"
          ]
        },
        {
          "output_type": "stream",
          "name": "stdout",
          "text": [
            "\b\b\b\b\b\b\b\b\b\b\b\b\b\b\b\b\b\b\b\b\b\b\b\b\b\b\b\b\b\b\b\b\b\b\b\b\b\b\b\b\b\b\b\b\b\b\b\b\b\b\b\b\b\b\b\b\b\b\b\b\b\b\b\b\b\b\b\b\b\b\b\b\b\b\b\b\b\b\b\b\b\b\b\b\r625/625 [==============================] - 131s 209ms/step - loss: 0.2152 - accuracy: 0.9329 - val_loss: 0.2974 - val_accuracy: 0.8992 - lr: 0.0010\n",
            "Learning rate:  0.001\n",
            "Epoch 6/250\n",
            "625/625 [==============================] - ETA: 0s - loss: 0.1676 - accuracy: 0.9505"
          ]
        },
        {
          "output_type": "stream",
          "name": "stderr",
          "text": [
            "WARNING:tensorflow:Can save best model only with val_acc available, skipping.\n"
          ]
        },
        {
          "output_type": "stream",
          "name": "stdout",
          "text": [
            "\b\b\b\b\b\b\b\b\b\b\b\b\b\b\b\b\b\b\b\b\b\b\b\b\b\b\b\b\b\b\b\b\b\b\b\b\b\b\b\b\b\b\b\b\b\b\b\b\b\b\b\b\b\b\b\b\b\b\b\b\b\b\b\b\b\b\b\b\b\b\b\b\b\b\b\b\b\b\b\b\b\b\b\b\r625/625 [==============================] - 131s 209ms/step - loss: 0.1676 - accuracy: 0.9505 - val_loss: 0.2942 - val_accuracy: 0.9002 - lr: 0.0010\n",
            "Learning rate:  0.001\n",
            "Epoch 7/250\n",
            "625/625 [==============================] - ETA: 0s - loss: 0.1204 - accuracy: 0.9675"
          ]
        },
        {
          "output_type": "stream",
          "name": "stderr",
          "text": [
            "WARNING:tensorflow:Can save best model only with val_acc available, skipping.\n"
          ]
        },
        {
          "output_type": "stream",
          "name": "stdout",
          "text": [
            "\b\b\b\b\b\b\b\b\b\b\b\b\b\b\b\b\b\b\b\b\b\b\b\b\b\b\b\b\b\b\b\b\b\b\b\b\b\b\b\b\b\b\b\b\b\b\b\b\b\b\b\b\b\b\b\b\b\b\b\b\b\b\b\b\b\b\b\b\b\b\b\b\b\b\b\b\b\b\b\b\b\b\b\b\r625/625 [==============================] - 143s 229ms/step - loss: 0.1204 - accuracy: 0.9675 - val_loss: 0.2810 - val_accuracy: 0.9086 - lr: 0.0010\n",
            "Learning rate:  0.001\n",
            "Epoch 8/250\n",
            "625/625 [==============================] - ETA: 0s - loss: 0.0951 - accuracy: 0.9741"
          ]
        },
        {
          "output_type": "stream",
          "name": "stderr",
          "text": [
            "WARNING:tensorflow:Can save best model only with val_acc available, skipping.\n"
          ]
        },
        {
          "output_type": "stream",
          "name": "stdout",
          "text": [
            "\b\b\b\b\b\b\b\b\b\b\b\b\b\b\b\b\b\b\b\b\b\b\b\b\b\b\b\b\b\b\b\b\b\b\b\b\b\b\b\b\b\b\b\b\b\b\b\b\b\b\b\b\b\b\b\b\b\b\b\b\b\b\b\b\b\b\b\b\b\b\b\b\b\b\b\b\b\b\b\b\b\b\b\b\r625/625 [==============================] - 131s 209ms/step - loss: 0.0951 - accuracy: 0.9741 - val_loss: 0.2866 - val_accuracy: 0.9050 - lr: 0.0010\n",
            "Learning rate:  0.001\n",
            "Epoch 9/250\n",
            "625/625 [==============================] - ETA: 0s - loss: 0.0768 - accuracy: 0.9823"
          ]
        },
        {
          "output_type": "stream",
          "name": "stderr",
          "text": [
            "WARNING:tensorflow:Can save best model only with val_acc available, skipping.\n"
          ]
        },
        {
          "output_type": "stream",
          "name": "stdout",
          "text": [
            "\b\b\b\b\b\b\b\b\b\b\b\b\b\b\b\b\b\b\b\b\b\b\b\b\b\b\b\b\b\b\b\b\b\b\b\b\b\b\b\b\b\b\b\b\b\b\b\b\b\b\b\b\b\b\b\b\b\b\b\b\b\b\b\b\b\b\b\b\b\b\b\b\b\b\b\b\b\b\b\b\b\b\b\b\r625/625 [==============================] - 143s 228ms/step - loss: 0.0768 - accuracy: 0.9823 - val_loss: 0.2815 - val_accuracy: 0.9094 - lr: 0.0010\n",
            "Learning rate:  0.001\n",
            "Epoch 10/250\n",
            "625/625 [==============================] - ETA: 0s - loss: 0.0603 - accuracy: 0.9862"
          ]
        },
        {
          "output_type": "stream",
          "name": "stderr",
          "text": [
            "WARNING:tensorflow:Can save best model only with val_acc available, skipping.\n"
          ]
        },
        {
          "output_type": "stream",
          "name": "stdout",
          "text": [
            "\b\b\b\b\b\b\b\b\b\b\b\b\b\b\b\b\b\b\b\b\b\b\b\b\b\b\b\b\b\b\b\b\b\b\b\b\b\b\b\b\b\b\b\b\b\b\b\b\b\b\b\b\b\b\b\b\b\b\b\b\b\b\b\b\b\b\b\b\b\b\b\b\b\b\b\b\b\b\b\b\b\b\b\b\r625/625 [==============================] - 143s 229ms/step - loss: 0.0603 - accuracy: 0.9862 - val_loss: 0.2822 - val_accuracy: 0.9099 - lr: 0.0010\n",
            "Learning rate:  0.001\n",
            "Epoch 11/250\n",
            "625/625 [==============================] - ETA: 0s - loss: 0.0463 - accuracy: 0.9912"
          ]
        },
        {
          "output_type": "stream",
          "name": "stderr",
          "text": [
            "WARNING:tensorflow:Can save best model only with val_acc available, skipping.\n"
          ]
        },
        {
          "output_type": "stream",
          "name": "stdout",
          "text": [
            "\b\b\b\b\b\b\b\b\b\b\b\b\b\b\b\b\b\b\b\b\b\b\b\b\b\b\b\b\b\b\b\b\b\b\b\b\b\b\b\b\b\b\b\b\b\b\b\b\b\b\b\b\b\b\b\b\b\b\b\b\b\b\b\b\b\b\b\b\b\b\b\b\b\b\b\b\b\b\b\b\b\b\b\b\r625/625 [==============================] - 131s 209ms/step - loss: 0.0463 - accuracy: 0.9912 - val_loss: 0.2842 - val_accuracy: 0.9095 - lr: 0.0010\n",
            "Learning rate:  0.001\n",
            "Epoch 12/250\n",
            "625/625 [==============================] - ETA: 0s - loss: 0.0405 - accuracy: 0.9917"
          ]
        },
        {
          "output_type": "stream",
          "name": "stderr",
          "text": [
            "WARNING:tensorflow:Can save best model only with val_acc available, skipping.\n"
          ]
        },
        {
          "output_type": "stream",
          "name": "stdout",
          "text": [
            "\b\b\b\b\b\b\b\b\b\b\b\b\b\b\b\b\b\b\b\b\b\b\b\b\b\b\b\b\b\b\b\b\b\b\b\b\b\b\b\b\b\b\b\b\b\b\b\b\b\b\b\b\b\b\b\b\b\b\b\b\b\b\b\b\b\b\b\b\b\b\b\b\b\b\b\b\b\b\b\b\b\b\b\b\r625/625 [==============================] - 143s 228ms/step - loss: 0.0405 - accuracy: 0.9917 - val_loss: 0.2858 - val_accuracy: 0.9126 - lr: 3.1623e-04\n",
            "Learning rate:  0.001\n",
            "Epoch 13/250\n",
            "625/625 [==============================] - ETA: 0s - loss: 0.0370 - accuracy: 0.9925"
          ]
        },
        {
          "output_type": "stream",
          "name": "stderr",
          "text": [
            "WARNING:tensorflow:Can save best model only with val_acc available, skipping.\n"
          ]
        },
        {
          "output_type": "stream",
          "name": "stdout",
          "text": [
            "\b\b\b\b\b\b\b\b\b\b\b\b\b\b\b\b\b\b\b\b\b\b\b\b\b\b\b\b\b\b\b\b\b\b\b\b\b\b\b\b\b\b\b\b\b\b\b\b\b\b\b\b\b\b\b\b\b\b\b\b\b\b\b\b\b\b\b\b\b\b\b\b\b\b\b\b\b\b\b\b\b\b\b\b\r625/625 [==============================] - 131s 209ms/step - loss: 0.0370 - accuracy: 0.9925 - val_loss: 0.2881 - val_accuracy: 0.9117 - lr: 0.0010\n",
            "Learning rate:  0.001\n",
            "Epoch 14/250\n",
            "625/625 [==============================] - ETA: 0s - loss: 0.0282 - accuracy: 0.9954"
          ]
        },
        {
          "output_type": "stream",
          "name": "stderr",
          "text": [
            "WARNING:tensorflow:Can save best model only with val_acc available, skipping.\n"
          ]
        },
        {
          "output_type": "stream",
          "name": "stdout",
          "text": [
            "\b\b\b\b\b\b\b\b\b\b\b\b\b\b\b\b\b\b\b\b\b\b\b\b\b\b\b\b\b\b\b\b\b\b\b\b\b\b\b\b\b\b\b\b\b\b\b\b\b\b\b\b\b\b\b\b\b\b\b\b\b\b\b\b\b\b\b\b\b\b\b\b\b\b\b\b\b\b\b\b\b\b\b\b\r625/625 [==============================] - 143s 228ms/step - loss: 0.0282 - accuracy: 0.9954 - val_loss: 0.2902 - val_accuracy: 0.9123 - lr: 0.0010\n",
            "Learning rate:  0.001\n",
            "Epoch 15/250\n",
            "625/625 [==============================] - ETA: 0s - loss: 0.0249 - accuracy: 0.9963"
          ]
        },
        {
          "output_type": "stream",
          "name": "stderr",
          "text": [
            "WARNING:tensorflow:Can save best model only with val_acc available, skipping.\n"
          ]
        },
        {
          "output_type": "stream",
          "name": "stdout",
          "text": [
            "\b\b\b\b\b\b\b\b\b\b\b\b\b\b\b\b\b\b\b\b\b\b\b\b\b\b\b\b\b\b\b\b\b\b\b\b\b\b\b\b\b\b\b\b\b\b\b\b\b\b\b\b\b\b\b\b\b\b\b\b\b\b\b\b\b\b\b\b\b\b\b\b\b\b\b\b\b\b\b\b\b\b\b\b\r625/625 [==============================] - 143s 229ms/step - loss: 0.0249 - accuracy: 0.9963 - val_loss: 0.2912 - val_accuracy: 0.9149 - lr: 0.0010\n",
            "Learning rate:  0.001\n",
            "Epoch 16/250\n",
            "625/625 [==============================] - ETA: 0s - loss: 0.0255 - accuracy: 0.9958"
          ]
        },
        {
          "output_type": "stream",
          "name": "stderr",
          "text": [
            "WARNING:tensorflow:Can save best model only with val_acc available, skipping.\n"
          ]
        },
        {
          "output_type": "stream",
          "name": "stdout",
          "text": [
            "\b\b\b\b\b\b\b\b\b\b\b\b\b\b\b\b\b\b\b\b\b\b\b\b\b\b\b\b\b\b\b\b\b\b\b\b\b\b\b\b\b\b\b\b\b\b\b\b\b\b\b\b\b\b\b\b\b\b\b\b\b\b\b\b\b\b\b\b\b\b\b\b\b\b\b\b\b\b\b\b\b\b\b\b\r625/625 [==============================] - 131s 209ms/step - loss: 0.0255 - accuracy: 0.9958 - val_loss: 0.2932 - val_accuracy: 0.9129 - lr: 0.0010\n",
            "Learning rate:  0.001\n",
            "Epoch 17/250\n",
            "625/625 [==============================] - ETA: 0s - loss: 0.0200 - accuracy: 0.9966"
          ]
        },
        {
          "output_type": "stream",
          "name": "stderr",
          "text": [
            "WARNING:tensorflow:Can save best model only with val_acc available, skipping.\n"
          ]
        },
        {
          "output_type": "stream",
          "name": "stdout",
          "text": [
            "\b\b\b\b\b\b\b\b\b\b\b\b\b\b\b\b\b\b\b\b\b\b\b\b\b\b\b\b\b\b\b\b\b\b\b\b\b\b\b\b\b\b\b\b\b\b\b\b\b\b\b\b\b\b\b\b\b\b\b\b\b\b\b\b\b\b\b\b\b\b\b\b\b\b\b\b\b\b\b\b\b\b\b\b\r625/625 [==============================] - 143s 228ms/step - loss: 0.0200 - accuracy: 0.9966 - val_loss: 0.2979 - val_accuracy: 0.9131 - lr: 3.1623e-04\n",
            "Learning rate:  0.001\n",
            "Epoch 18/250\n",
            "625/625 [==============================] - ETA: 0s - loss: 0.0185 - accuracy: 0.9970"
          ]
        },
        {
          "output_type": "stream",
          "name": "stderr",
          "text": [
            "WARNING:tensorflow:Can save best model only with val_acc available, skipping.\n"
          ]
        },
        {
          "output_type": "stream",
          "name": "stdout",
          "text": [
            "\b\b\b\b\b\b\b\b\b\b\b\b\b\b\b\b\b\b\b\b\b\b\b\b\b\b\b\b\b\b\b\b\b\b\b\b\b\b\b\b\b\b\b\b\b\b\b\b\b\b\b\b\b\b\b\b\b\b\b\b\b\b\b\b\b\b\b\b\b\b\b\b\b\b\b\b\b\b\b\b\b\b\b\b\r625/625 [==============================] - 131s 209ms/step - loss: 0.0185 - accuracy: 0.9970 - val_loss: 0.2966 - val_accuracy: 0.9149 - lr: 0.0010\n",
            "Learning rate:  0.001\n",
            "Epoch 19/250\n",
            "625/625 [==============================] - ETA: 0s - loss: 0.0178 - accuracy: 0.9969"
          ]
        },
        {
          "output_type": "stream",
          "name": "stderr",
          "text": [
            "WARNING:tensorflow:Can save best model only with val_acc available, skipping.\n"
          ]
        },
        {
          "output_type": "stream",
          "name": "stdout",
          "text": [
            "\b\b\b\b\b\b\b\b\b\b\b\b\b\b\b\b\b\b\b\b\b\b\b\b\b\b\b\b\b\b\b\b\b\b\b\b\b\b\b\b\b\b\b\b\b\b\b\b\b\b\b\b\b\b\b\b\b\b\b\b\b\b\b\b\b\b\b\b\b\b\b\b\b\b\b\b\b\b\b\b\b\b\b\b\r625/625 [==============================] - 143s 228ms/step - loss: 0.0178 - accuracy: 0.9969 - val_loss: 0.3035 - val_accuracy: 0.9137 - lr: 0.0010\n",
            "Learning rate:  0.001\n",
            "Epoch 20/250\n",
            "625/625 [==============================] - ETA: 0s - loss: 0.0151 - accuracy: 0.9979"
          ]
        },
        {
          "output_type": "stream",
          "name": "stderr",
          "text": [
            "WARNING:tensorflow:Can save best model only with val_acc available, skipping.\n"
          ]
        },
        {
          "output_type": "stream",
          "name": "stdout",
          "text": [
            "\b\b\b\b\b\b\b\b\b\b\b\b\b\b\b\b\b\b\b\b\b\b\b\b\b\b\b\b\b\b\b\b\b\b\b\b\b\b\b\b\b\b\b\b\b\b\b\b\b\b\b\b\b\b\b\b\b\b\b\b\b\b\b\b\b\b\b\b\b\b\b\b\b\b\b\b\b\b\b\b\b\b\b\b\r625/625 [==============================] - 143s 229ms/step - loss: 0.0151 - accuracy: 0.9979 - val_loss: 0.3019 - val_accuracy: 0.9147 - lr: 0.0010\n",
            "Learning rate:  0.001\n",
            "Epoch 21/250\n",
            "625/625 [==============================] - ETA: 0s - loss: 0.0149 - accuracy: 0.9976"
          ]
        },
        {
          "output_type": "stream",
          "name": "stderr",
          "text": [
            "WARNING:tensorflow:Can save best model only with val_acc available, skipping.\n"
          ]
        },
        {
          "output_type": "stream",
          "name": "stdout",
          "text": [
            "\b\b\b\b\b\b\b\b\b\b\b\b\b\b\b\b\b\b\b\b\b\b\b\b\b\b\b\b\b\b\b\b\b\b\b\b\b\b\b\b\b\b\b\b\b\b\b\b\b\b\b\b\b\b\b\b\b\b\b\b\b\b\b\b\b\b\b\b\b\b\b\b\b\b\b\b\b\b\b\b\b\b\b\b\r625/625 [==============================] - 143s 229ms/step - loss: 0.0149 - accuracy: 0.9976 - val_loss: 0.3021 - val_accuracy: 0.9152 - lr: 0.0010\n",
            "Learning rate:  0.001\n",
            "Epoch 22/250\n",
            "625/625 [==============================] - ETA: 0s - loss: 0.0138 - accuracy: 0.9979"
          ]
        },
        {
          "output_type": "stream",
          "name": "stderr",
          "text": [
            "WARNING:tensorflow:Can save best model only with val_acc available, skipping.\n"
          ]
        },
        {
          "output_type": "stream",
          "name": "stdout",
          "text": [
            "\b\b\b\b\b\b\b\b\b\b\b\b\b\b\b\b\b\b\b\b\b\b\b\b\b\b\b\b\b\b\b\b\b\b\b\b\b\b\b\b\b\b\b\b\b\b\b\b\b\b\b\b\b\b\b\b\b\b\b\b\b\b\b\b\b\b\b\b\b\b\b\b\b\b\b\b\b\b\b\b\b\b\b\b\r625/625 [==============================] - 131s 209ms/step - loss: 0.0138 - accuracy: 0.9979 - val_loss: 0.3052 - val_accuracy: 0.9141 - lr: 3.1623e-04\n",
            "Learning rate:  0.001\n",
            "Epoch 23/250\n",
            "625/625 [==============================] - ETA: 0s - loss: 0.0117 - accuracy: 0.9980"
          ]
        },
        {
          "output_type": "stream",
          "name": "stderr",
          "text": [
            "WARNING:tensorflow:Can save best model only with val_acc available, skipping.\n"
          ]
        },
        {
          "output_type": "stream",
          "name": "stdout",
          "text": [
            "\b\b\b\b\b\b\b\b\b\b\b\b\b\b\b\b\b\b\b\b\b\b\b\b\b\b\b\b\b\b\b\b\b\b\b\b\b\b\b\b\b\b\b\b\b\b\b\b\b\b\b\b\b\b\b\b\b\b\b\b\b\b\b\b\b\b\b\b\b\b\b\b\b\b\b\b\b\b\b\b\b\b\b\b\r625/625 [==============================] - 143s 228ms/step - loss: 0.0117 - accuracy: 0.9980 - val_loss: 0.3016 - val_accuracy: 0.9133 - lr: 0.0010\n",
            "Learning rate:  0.001\n",
            "Epoch 24/250\n",
            "625/625 [==============================] - ETA: 0s - loss: 0.0117 - accuracy: 0.9982"
          ]
        },
        {
          "output_type": "stream",
          "name": "stderr",
          "text": [
            "WARNING:tensorflow:Can save best model only with val_acc available, skipping.\n"
          ]
        },
        {
          "output_type": "stream",
          "name": "stdout",
          "text": [
            "\b\b\b\b\b\b\b\b\b\b\b\b\b\b\b\b\b\b\b\b\b\b\b\b\b\b\b\b\b\b\b\b\b\b\b\b\b\b\b\b\b\b\b\b\b\b\b\b\b\b\b\b\b\b\b\b\b\b\b\b\b\b\b\b\b\b\b\b\b\b\b\b\b\b\b\b\b\b\b\b\b\b\b\b\r625/625 [==============================] - 131s 209ms/step - loss: 0.0117 - accuracy: 0.9982 - val_loss: 0.3019 - val_accuracy: 0.9160 - lr: 0.0010\n",
            "Learning rate:  0.001\n",
            "Epoch 25/250\n",
            "625/625 [==============================] - ETA: 0s - loss: 0.0118 - accuracy: 0.9978"
          ]
        },
        {
          "output_type": "stream",
          "name": "stderr",
          "text": [
            "WARNING:tensorflow:Can save best model only with val_acc available, skipping.\n"
          ]
        },
        {
          "output_type": "stream",
          "name": "stdout",
          "text": [
            "\b\b\b\b\b\b\b\b\b\b\b\b\b\b\b\b\b\b\b\b\b\b\b\b\b\b\b\b\b\b\b\b\b\b\b\b\b\b\b\b\b\b\b\b\b\b\b\b\b\b\b\b\b\b\b\b\b\b\b\b\b\b\b\b\b\b\b\b\b\b\b\b\b\b\b\b\b\b\b\b\b\b\b\b\r625/625 [==============================] - 143s 228ms/step - loss: 0.0118 - accuracy: 0.9978 - val_loss: 0.3097 - val_accuracy: 0.9139 - lr: 0.0010\n",
            "Learning rate:  0.001\n",
            "Epoch 26/250\n",
            "625/625 [==============================] - ETA: 0s - loss: 0.0097 - accuracy: 0.9986"
          ]
        },
        {
          "output_type": "stream",
          "name": "stderr",
          "text": [
            "WARNING:tensorflow:Can save best model only with val_acc available, skipping.\n"
          ]
        },
        {
          "output_type": "stream",
          "name": "stdout",
          "text": [
            "\b\b\b\b\b\b\b\b\b\b\b\b\b\b\b\b\b\b\b\b\b\b\b\b\b\b\b\b\b\b\b\b\b\b\b\b\b\b\b\b\b\b\b\b\b\b\b\b\b\b\b\b\b\b\b\b\b\b\b\b\b\b\b\b\b\b\b\b\b\b\b\b\b\b\b\b\b\b\b\b\b\b\b\b\r625/625 [==============================] - 131s 209ms/step - loss: 0.0097 - accuracy: 0.9986 - val_loss: 0.3054 - val_accuracy: 0.9153 - lr: 0.0010\n",
            "Learning rate:  0.001\n",
            "Epoch 27/250\n",
            "625/625 [==============================] - ETA: 0s - loss: 0.0091 - accuracy: 0.9985"
          ]
        },
        {
          "output_type": "stream",
          "name": "stderr",
          "text": [
            "WARNING:tensorflow:Can save best model only with val_acc available, skipping.\n"
          ]
        },
        {
          "output_type": "stream",
          "name": "stdout",
          "text": [
            "\b\b\b\b\b\b\b\b\b\b\b\b\b\b\b\b\b\b\b\b\b\b\b\b\b\b\b\b\b\b\b\b\b\b\b\b\b\b\b\b\b\b\b\b\b\b\b\b\b\b\b\b\b\b\b\b\b\b\b\b\b\b\b\b\b\b\b\b\b\b\b\b\b\b\b\b\b\b\b\b\b\b\b\b\r625/625 [==============================] - 130s 208ms/step - loss: 0.0091 - accuracy: 0.9985 - val_loss: 0.3060 - val_accuracy: 0.9182 - lr: 3.1623e-04\n",
            "Learning rate:  0.001\n",
            "Epoch 28/250\n",
            "625/625 [==============================] - ETA: 0s - loss: 0.0088 - accuracy: 0.9988"
          ]
        },
        {
          "output_type": "stream",
          "name": "stderr",
          "text": [
            "WARNING:tensorflow:Can save best model only with val_acc available, skipping.\n"
          ]
        },
        {
          "output_type": "stream",
          "name": "stdout",
          "text": [
            "\b\b\b\b\b\b\b\b\b\b\b\b\b\b\b\b\b\b\b\b\b\b\b\b\b\b\b\b\b\b\b\b\b\b\b\b\b\b\b\b\b\b\b\b\b\b\b\b\b\b\b\b\b\b\b\b\b\b\b\b\b\b\b\b\b\b\b\b\b\b\b\b\b\b\b\b\b\b\b\b\b\b\b\b\r625/625 [==============================] - 130s 209ms/step - loss: 0.0088 - accuracy: 0.9988 - val_loss: 0.3100 - val_accuracy: 0.9158 - lr: 0.0010\n",
            "Learning rate:  0.001\n",
            "Epoch 29/250\n",
            "625/625 [==============================] - ETA: 0s - loss: 0.0083 - accuracy: 0.9991"
          ]
        },
        {
          "output_type": "stream",
          "name": "stderr",
          "text": [
            "WARNING:tensorflow:Can save best model only with val_acc available, skipping.\n"
          ]
        },
        {
          "output_type": "stream",
          "name": "stdout",
          "text": [
            "\b\b\b\b\b\b\b\b\b\b\b\b\b\b\b\b\b\b\b\b\b\b\b\b\b\b\b\b\b\b\b\b\b\b\b\b\b\b\b\b\b\b\b\b\b\b\b\b\b\b\b\b\b\b\b\b\b\b\b\b\b\b\b\b\b\b\b\b\b\b\b\b\b\b\b\b\b\b\b\b\b\b\b\b\r625/625 [==============================] - 130s 208ms/step - loss: 0.0083 - accuracy: 0.9991 - val_loss: 0.3135 - val_accuracy: 0.9148 - lr: 0.0010\n",
            "Learning rate:  0.001\n",
            "Epoch 30/250\n",
            "625/625 [==============================] - ETA: 0s - loss: 0.0087 - accuracy: 0.9987"
          ]
        },
        {
          "output_type": "stream",
          "name": "stderr",
          "text": [
            "WARNING:tensorflow:Can save best model only with val_acc available, skipping.\n"
          ]
        },
        {
          "output_type": "stream",
          "name": "stdout",
          "text": [
            "\b\b\b\b\b\b\b\b\b\b\b\b\b\b\b\b\b\b\b\b\b\b\b\b\b\b\b\b\b\b\b\b\b\b\b\b\b\b\b\b\b\b\b\b\b\b\b\b\b\b\b\b\b\b\b\b\b\b\b\b\b\b\b\b\b\b\b\b\b\b\b\b\b\b\b\b\b\b\b\b\b\b\b\b\r625/625 [==============================] - 130s 209ms/step - loss: 0.0087 - accuracy: 0.9987 - val_loss: 0.3132 - val_accuracy: 0.9155 - lr: 0.0010\n",
            "Learning rate:  0.001\n",
            "Epoch 31/250\n",
            "625/625 [==============================] - ETA: 0s - loss: 0.0076 - accuracy: 0.9987"
          ]
        },
        {
          "output_type": "stream",
          "name": "stderr",
          "text": [
            "WARNING:tensorflow:Can save best model only with val_acc available, skipping.\n"
          ]
        },
        {
          "output_type": "stream",
          "name": "stdout",
          "text": [
            "\b\b\b\b\b\b\b\b\b\b\b\b\b\b\b\b\b\b\b\b\b\b\b\b\b\b\b\b\b\b\b\b\b\b\b\b\b\b\b\b\b\b\b\b\b\b\b\b\b\b\b\b\b\b\b\b\b\b\b\b\b\b\b\b\b\b\b\b\b\b\b\b\b\b\b\b\b\b\b\b\b\b\b\b\r625/625 [==============================] - 143s 229ms/step - loss: 0.0076 - accuracy: 0.9987 - val_loss: 0.3125 - val_accuracy: 0.9163 - lr: 0.0010\n",
            "Learning rate:  0.001\n",
            "Epoch 32/250\n",
            "625/625 [==============================] - ETA: 0s - loss: 0.0071 - accuracy: 0.9991"
          ]
        },
        {
          "output_type": "stream",
          "name": "stderr",
          "text": [
            "WARNING:tensorflow:Can save best model only with val_acc available, skipping.\n"
          ]
        },
        {
          "output_type": "stream",
          "name": "stdout",
          "text": [
            "\b\b\b\b\b\b\b\b\b\b\b\b\b\b\b\b\b\b\b\b\b\b\b\b\b\b\b\b\b\b\b\b\b\b\b\b\b\b\b\b\b\b\b\b\b\b\b\b\b\b\b\b\b\b\b\b\b\b\b\b\b\b\b\b\b\b\b\b\b\b\b\b\b\b\b\b\b\b\b\b\b\b\b\b\r625/625 [==============================] - 131s 209ms/step - loss: 0.0071 - accuracy: 0.9991 - val_loss: 0.3171 - val_accuracy: 0.9163 - lr: 3.1623e-04\n",
            "Learning rate:  0.001\n",
            "Epoch 33/250\n",
            "625/625 [==============================] - ETA: 0s - loss: 0.0076 - accuracy: 0.9987"
          ]
        },
        {
          "output_type": "stream",
          "name": "stderr",
          "text": [
            "WARNING:tensorflow:Can save best model only with val_acc available, skipping.\n"
          ]
        },
        {
          "output_type": "stream",
          "name": "stdout",
          "text": [
            "\b\b\b\b\b\b\b\b\b\b\b\b\b\b\b\b\b\b\b\b\b\b\b\b\b\b\b\b\b\b\b\b\b\b\b\b\b\b\b\b\b\b\b\b\b\b\b\b\b\b\b\b\b\b\b\b\b\b\b\b\b\b\b\b\b\b\b\b\b\b\b\b\b\b\b\b\b\b\b\b\b\b\b\b\r625/625 [==============================] - 131s 209ms/step - loss: 0.0076 - accuracy: 0.9987 - val_loss: 0.3137 - val_accuracy: 0.9167 - lr: 0.0010\n",
            "Learning rate:  0.001\n",
            "Epoch 34/250\n",
            "625/625 [==============================] - ETA: 0s - loss: 0.0067 - accuracy: 0.9992"
          ]
        },
        {
          "output_type": "stream",
          "name": "stderr",
          "text": [
            "WARNING:tensorflow:Can save best model only with val_acc available, skipping.\n"
          ]
        },
        {
          "output_type": "stream",
          "name": "stdout",
          "text": [
            "\b\b\b\b\b\b\b\b\b\b\b\b\b\b\b\b\b\b\b\b\b\b\b\b\b\b\b\b\b\b\b\b\b\b\b\b\b\b\b\b\b\b\b\b\b\b\b\b\b\b\b\b\b\b\b\b\b\b\b\b\b\b\b\b\b\b\b\b\b\b\b\b\b\b\b\b\b\b\b\b\b\b\b\b\r625/625 [==============================] - 143s 229ms/step - loss: 0.0067 - accuracy: 0.9992 - val_loss: 0.3157 - val_accuracy: 0.9187 - lr: 0.0010\n",
            "Learning rate:  0.001\n",
            "Epoch 35/250\n",
            "625/625 [==============================] - ETA: 0s - loss: 0.0060 - accuracy: 0.9991"
          ]
        },
        {
          "output_type": "stream",
          "name": "stderr",
          "text": [
            "WARNING:tensorflow:Can save best model only with val_acc available, skipping.\n"
          ]
        },
        {
          "output_type": "stream",
          "name": "stdout",
          "text": [
            "\b\b\b\b\b\b\b\b\b\b\b\b\b\b\b\b\b\b\b\b\b\b\b\b\b\b\b\b\b\b\b\b\b\b\b\b\b\b\b\b\b\b\b\b\b\b\b\b\b\b\b\b\b\b\b\b\b\b\b\b\b\b\b\b\b\b\b\b\b\b\b\b\b\b\b\b\b\b\b\b\b\b\b\b\r625/625 [==============================] - 143s 229ms/step - loss: 0.0060 - accuracy: 0.9991 - val_loss: 0.3220 - val_accuracy: 0.9154 - lr: 0.0010\n",
            "Learning rate:  0.001\n",
            "Epoch 36/250\n",
            "625/625 [==============================] - ETA: 0s - loss: 0.0061 - accuracy: 0.9993"
          ]
        },
        {
          "output_type": "stream",
          "name": "stderr",
          "text": [
            "WARNING:tensorflow:Can save best model only with val_acc available, skipping.\n"
          ]
        },
        {
          "output_type": "stream",
          "name": "stdout",
          "text": [
            "\b\b\b\b\b\b\b\b\b\b\b\b\b\b\b\b\b\b\b\b\b\b\b\b\b\b\b\b\b\b\b\b\b\b\b\b\b\b\b\b\b\b\b\b\b\b\b\b\b\b\b\b\b\b\b\b\b\b\b\b\b\b\b\b\b\b\b\b\b\b\b\b\b\b\b\b\b\b\b\b\b\b\b\b\r625/625 [==============================] - 131s 209ms/step - loss: 0.0061 - accuracy: 0.9993 - val_loss: 0.3184 - val_accuracy: 0.9182 - lr: 0.0010\n",
            "Learning rate:  0.001\n",
            "Epoch 37/250\n",
            "625/625 [==============================] - ETA: 0s - loss: 0.0052 - accuracy: 0.9996"
          ]
        },
        {
          "output_type": "stream",
          "name": "stderr",
          "text": [
            "WARNING:tensorflow:Can save best model only with val_acc available, skipping.\n"
          ]
        },
        {
          "output_type": "stream",
          "name": "stdout",
          "text": [
            "\b\b\b\b\b\b\b\b\b\b\b\b\b\b\b\b\b\b\b\b\b\b\b\b\b\b\b\b\b\b\b\b\b\b\b\b\b\b\b\b\b\b\b\b\b\b\b\b\b\b\b\b\b\b\b\b\b\b\b\b\b\b\b\b\b\b\b\b\b\b\b\b\b\b\b\b\b\b\b\b\b\b\b\b\r625/625 [==============================] - 130s 208ms/step - loss: 0.0052 - accuracy: 0.9996 - val_loss: 0.3208 - val_accuracy: 0.9177 - lr: 3.1623e-04\n",
            "Learning rate:  0.001\n",
            "Epoch 38/250\n",
            "625/625 [==============================] - ETA: 0s - loss: 0.0055 - accuracy: 0.9991"
          ]
        },
        {
          "output_type": "stream",
          "name": "stderr",
          "text": [
            "WARNING:tensorflow:Can save best model only with val_acc available, skipping.\n"
          ]
        },
        {
          "output_type": "stream",
          "name": "stdout",
          "text": [
            "\b\b\b\b\b\b\b\b\b\b\b\b\b\b\b\b\b\b\b\b\b\b\b\b\b\b\b\b\b\b\b\b\b\b\b\b\b\b\b\b\b\b\b\b\b\b\b\b\b\b\b\b\b\b\b\b\b\b\b\b\b\b\b\b\b\b\b\b\b\b\b\b\b\b\b\b\b\b\b\b\b\b\b\b\r625/625 [==============================] - 130s 208ms/step - loss: 0.0055 - accuracy: 0.9991 - val_loss: 0.3224 - val_accuracy: 0.9155 - lr: 0.0010\n",
            "Learning rate:  0.001\n",
            "Epoch 39/250\n",
            "625/625 [==============================] - ETA: 0s - loss: 0.0060 - accuracy: 0.9993"
          ]
        },
        {
          "output_type": "stream",
          "name": "stderr",
          "text": [
            "WARNING:tensorflow:Can save best model only with val_acc available, skipping.\n"
          ]
        },
        {
          "output_type": "stream",
          "name": "stdout",
          "text": [
            "\b\b\b\b\b\b\b\b\b\b\b\b\b\b\b\b\b\b\b\b\b\b\b\b\b\b\b\b\b\b\b\b\b\b\b\b\b\b\b\b\b\b\b\b\b\b\b\b\b\b\b\b\b\b\b\b\b\b\b\b\b\b\b\b\b\b\b\b\b\b\b\b\b\b\b\b\b\b\b\b\b\b\b\b\r625/625 [==============================] - 130s 208ms/step - loss: 0.0060 - accuracy: 0.9993 - val_loss: 0.3281 - val_accuracy: 0.9156 - lr: 0.0010\n",
            "Learning rate:  0.001\n",
            "Epoch 40/250\n",
            "625/625 [==============================] - ETA: 0s - loss: 0.0057 - accuracy: 0.9990"
          ]
        },
        {
          "output_type": "stream",
          "name": "stderr",
          "text": [
            "WARNING:tensorflow:Can save best model only with val_acc available, skipping.\n"
          ]
        },
        {
          "output_type": "stream",
          "name": "stdout",
          "text": [
            "\b\b\b\b\b\b\b\b\b\b\b\b\b\b\b\b\b\b\b\b\b\b\b\b\b\b\b\b\b\b\b\b\b\b\b\b\b\b\b\b\b\b\b\b\b\b\b\b\b\b\b\b\b\b\b\b\b\b\b\b\b\b\b\b\b\b\b\b\b\b\b\b\b\b\b\b\b\b\b\b\b\b\b\b\r625/625 [==============================] - 130s 209ms/step - loss: 0.0057 - accuracy: 0.9990 - val_loss: 0.3207 - val_accuracy: 0.9170 - lr: 0.0010\n",
            "Learning rate:  0.001\n",
            "Epoch 41/250\n",
            "625/625 [==============================] - ETA: 0s - loss: 0.0044 - accuracy: 0.9996"
          ]
        },
        {
          "output_type": "stream",
          "name": "stderr",
          "text": [
            "WARNING:tensorflow:Can save best model only with val_acc available, skipping.\n"
          ]
        },
        {
          "output_type": "stream",
          "name": "stdout",
          "text": [
            "\b\b\b\b\b\b\b\b\b\b\b\b\b\b\b\b\b\b\b\b\b\b\b\b\b\b\b\b\b\b\b\b\b\b\b\b\b\b\b\b\b\b\b\b\b\b\b\b\b\b\b\b\b\b\b\b\b\b\b\b\b\b\b\b\b\b\b\b\b\b\b\b\b\b\b\b\b\b\b\b\b\b\b\b\r625/625 [==============================] - 143s 228ms/step - loss: 0.0044 - accuracy: 0.9996 - val_loss: 0.3222 - val_accuracy: 0.9183 - lr: 0.0010\n",
            "Learning rate:  0.001\n",
            "Epoch 42/250\n",
            "625/625 [==============================] - ETA: 0s - loss: 0.0049 - accuracy: 0.9992"
          ]
        },
        {
          "output_type": "stream",
          "name": "stderr",
          "text": [
            "WARNING:tensorflow:Can save best model only with val_acc available, skipping.\n"
          ]
        },
        {
          "output_type": "stream",
          "name": "stdout",
          "text": [
            "\b\b\b\b\b\b\b\b\b\b\b\b\b\b\b\b\b\b\b\b\b\b\b\b\b\b\b\b\b\b\b\b\b\b\b\b\b\b\b\b\b\b\b\b\b\b\b\b\b\b\b\b\b\b\b\b\b\b\b\b\b\b\b\b\b\b\b\b\b\b\b\b\b\b\b\b\b\b\b\b\b\b\b\b\r625/625 [==============================] - 131s 209ms/step - loss: 0.0049 - accuracy: 0.9992 - val_loss: 0.3237 - val_accuracy: 0.9183 - lr: 3.1623e-04\n",
            "Learning rate:  0.001\n",
            "Epoch 43/250\n",
            "625/625 [==============================] - ETA: 0s - loss: 0.0043 - accuracy: 0.9996"
          ]
        },
        {
          "output_type": "stream",
          "name": "stderr",
          "text": [
            "WARNING:tensorflow:Can save best model only with val_acc available, skipping.\n"
          ]
        },
        {
          "output_type": "stream",
          "name": "stdout",
          "text": [
            "\b\b\b\b\b\b\b\b\b\b\b\b\b\b\b\b\b\b\b\b\b\b\b\b\b\b\b\b\b\b\b\b\b\b\b\b\b\b\b\b\b\b\b\b\b\b\b\b\b\b\b\b\b\b\b\b\b\b\b\b\b\b\b\b\b\b\b\b\b\b\b\b\b\b\b\b\b\b\b\b\b\b\b\b\r625/625 [==============================] - 143s 228ms/step - loss: 0.0043 - accuracy: 0.9996 - val_loss: 0.3267 - val_accuracy: 0.9184 - lr: 0.0010\n",
            "Learning rate:  0.001\n",
            "Epoch 44/250\n",
            "625/625 [==============================] - ETA: 0s - loss: 0.0055 - accuracy: 0.9992"
          ]
        },
        {
          "output_type": "stream",
          "name": "stderr",
          "text": [
            "WARNING:tensorflow:Can save best model only with val_acc available, skipping.\n"
          ]
        },
        {
          "output_type": "stream",
          "name": "stdout",
          "text": [
            "\b\b\b\b\b\b\b\b\b\b\b\b\b\b\b\b\b\b\b\b\b\b\b\b\b\b\b\b\b\b\b\b\b\b\b\b\b\b\b\b\b\b\b\b\b\b\b\b\b\b\b\b\b\b\b\b\b\b\b\b\b\b\b\b\b\b\b\b\b\b\b\b\b\b\b\b\b\b\b\b\b\b\b\b\r625/625 [==============================] - 131s 209ms/step - loss: 0.0055 - accuracy: 0.9992 - val_loss: 0.3219 - val_accuracy: 0.9188 - lr: 0.0010\n",
            "Learning rate:  0.001\n",
            "Epoch 45/250\n",
            "625/625 [==============================] - ETA: 0s - loss: 0.0048 - accuracy: 0.9993"
          ]
        },
        {
          "output_type": "stream",
          "name": "stderr",
          "text": [
            "WARNING:tensorflow:Can save best model only with val_acc available, skipping.\n"
          ]
        },
        {
          "output_type": "stream",
          "name": "stdout",
          "text": [
            "\b\b\b\b\b\b\b\b\b\b\b\b\b\b\b\b\b\b\b\b\b\b\b\b\b\b\b\b\b\b\b\b\b\b\b\b\b\b\b\b\b\b\b\b\b\b\b\b\b\b\b\b\b\b\b\b\b\b\b\b\b\b\b\b\b\b\b\b\b\b\b\b\b\b\b\b\b\b\b\b\b\b\b\b\r625/625 [==============================] - 130s 208ms/step - loss: 0.0048 - accuracy: 0.9993 - val_loss: 0.3301 - val_accuracy: 0.9161 - lr: 0.0010\n",
            "Learning rate:  0.001\n",
            "Epoch 46/250\n",
            "625/625 [==============================] - ETA: 0s - loss: 0.0045 - accuracy: 0.9992"
          ]
        },
        {
          "output_type": "stream",
          "name": "stderr",
          "text": [
            "WARNING:tensorflow:Can save best model only with val_acc available, skipping.\n"
          ]
        },
        {
          "output_type": "stream",
          "name": "stdout",
          "text": [
            "\b\b\b\b\b\b\b\b\b\b\b\b\b\b\b\b\b\b\b\b\b\b\b\b\b\b\b\b\b\b\b\b\b\b\b\b\b\b\b\b\b\b\b\b\b\b\b\b\b\b\b\b\b\b\b\b\b\b\b\b\b\b\b\b\b\b\b\b\b\b\b\b\b\b\b\b\b\b\b\b\b\b\b\b\r625/625 [==============================] - 143s 228ms/step - loss: 0.0045 - accuracy: 0.9992 - val_loss: 0.3263 - val_accuracy: 0.9188 - lr: 0.0010\n",
            "Learning rate:  0.001\n",
            "Epoch 47/250\n",
            "625/625 [==============================] - ETA: 0s - loss: 0.0044 - accuracy: 0.9993"
          ]
        },
        {
          "output_type": "stream",
          "name": "stderr",
          "text": [
            "WARNING:tensorflow:Can save best model only with val_acc available, skipping.\n"
          ]
        },
        {
          "output_type": "stream",
          "name": "stdout",
          "text": [
            "\b\b\b\b\b\b\b\b\b\b\b\b\b\b\b\b\b\b\b\b\b\b\b\b\b\b\b\b\b\b\b\b\b\b\b\b\b\b\b\b\b\b\b\b\b\b\b\b\b\b\b\b\b\b\b\b\b\b\b\b\b\b\b\b\b\b\b\b\b\b\b\b\b\b\b\b\b\b\b\b\b\b\b\b\r625/625 [==============================] - 143s 229ms/step - loss: 0.0044 - accuracy: 0.9993 - val_loss: 0.3272 - val_accuracy: 0.9178 - lr: 3.1623e-04\n",
            "Learning rate:  0.001\n",
            "Epoch 48/250\n",
            "625/625 [==============================] - ETA: 0s - loss: 0.0040 - accuracy: 0.9996"
          ]
        },
        {
          "output_type": "stream",
          "name": "stderr",
          "text": [
            "WARNING:tensorflow:Can save best model only with val_acc available, skipping.\n"
          ]
        },
        {
          "output_type": "stream",
          "name": "stdout",
          "text": [
            "\b\b\b\b\b\b\b\b\b\b\b\b\b\b\b\b\b\b\b\b\b\b\b\b\b\b\b\b\b\b\b\b\b\b\b\b\b\b\b\b\b\b\b\b\b\b\b\b\b\b\b\b\b\b\b\b\b\b\b\b\b\b\b\b\b\b\b\b\b\b\b\b\b\b\b\b\b\b\b\b\b\b\b\b\r625/625 [==============================] - 143s 229ms/step - loss: 0.0040 - accuracy: 0.9996 - val_loss: 0.3304 - val_accuracy: 0.9163 - lr: 0.0010\n",
            "Learning rate:  0.001\n",
            "Epoch 49/250\n",
            "625/625 [==============================] - ETA: 0s - loss: 0.0036 - accuracy: 0.9996"
          ]
        },
        {
          "output_type": "stream",
          "name": "stderr",
          "text": [
            "WARNING:tensorflow:Can save best model only with val_acc available, skipping.\n"
          ]
        },
        {
          "output_type": "stream",
          "name": "stdout",
          "text": [
            "\b\b\b\b\b\b\b\b\b\b\b\b\b\b\b\b\b\b\b\b\b\b\b\b\b\b\b\b\b\b\b\b\b\b\b\b\b\b\b\b\b\b\b\b\b\b\b\b\b\b\b\b\b\b\b\b\b\b\b\b\b\b\b\b\b\b\b\b\b\b\b\b\b\b\b\b\b\b\b\b\b\b\b\b\r625/625 [==============================] - 131s 209ms/step - loss: 0.0036 - accuracy: 0.9996 - val_loss: 0.3273 - val_accuracy: 0.9192 - lr: 0.0010\n",
            "Learning rate:  0.001\n",
            "Epoch 50/250\n",
            "625/625 [==============================] - ETA: 0s - loss: 0.0044 - accuracy: 0.9995"
          ]
        },
        {
          "output_type": "stream",
          "name": "stderr",
          "text": [
            "WARNING:tensorflow:Can save best model only with val_acc available, skipping.\n"
          ]
        },
        {
          "output_type": "stream",
          "name": "stdout",
          "text": [
            "\b\b\b\b\b\b\b\b\b\b\b\b\b\b\b\b\b\b\b\b\b\b\b\b\b\b\b\b\b\b\b\b\b\b\b\b\b\b\b\b\b\b\b\b\b\b\b\b\b\b\b\b\b\b\b\b\b\b\b\b\b\b\b\b\b\b\b\b\b\b\b\b\b\b\b\b\b\b\b\b\b\b\b\b\r625/625 [==============================] - 143s 228ms/step - loss: 0.0044 - accuracy: 0.9995 - val_loss: 0.3264 - val_accuracy: 0.9186 - lr: 0.0010\n",
            "Learning rate:  0.001\n",
            "Epoch 51/250\n",
            " 40/625 [>.............................] - ETA: 1:34 - loss: 0.0034 - accuracy: 1.0000"
          ]
        },
        {
          "output_type": "error",
          "ename": "KeyboardInterrupt",
          "evalue": "ignored",
          "traceback": [
            "\u001b[0;31m---------------------------------------------------------------------------\u001b[0m",
            "\u001b[0;31mKeyboardInterrupt\u001b[0m                         Traceback (most recent call last)",
            "\u001b[0;32m<ipython-input-22-de7d18089dc9>\u001b[0m in \u001b[0;36m<module>\u001b[0;34m\u001b[0m\n\u001b[1;32m      1\u001b[0m \u001b[0;31m# EPOCHS = 3\u001b[0m\u001b[0;34m\u001b[0m\u001b[0;34m\u001b[0m\u001b[0;34m\u001b[0m\u001b[0m\n\u001b[0;32m----> 2\u001b[0;31m history = model.fit(train_X[:10000], training_labels[:10000], epochs=250, \n\u001b[0m\u001b[1;32m      3\u001b[0m                     \u001b[0mvalidation_data\u001b[0m \u001b[0;34m=\u001b[0m \u001b[0;34m(\u001b[0m\u001b[0mvalid_X\u001b[0m\u001b[0;34m,\u001b[0m \u001b[0mvalidation_labels\u001b[0m\u001b[0;34m)\u001b[0m\u001b[0;34m,\u001b[0m \u001b[0mbatch_size\u001b[0m\u001b[0;34m=\u001b[0m\u001b[0;36m16\u001b[0m\u001b[0;34m,\u001b[0m \u001b[0mverbose\u001b[0m\u001b[0;34m=\u001b[0m\u001b[0;36m1\u001b[0m\u001b[0;34m,\u001b[0m \u001b[0mworkers\u001b[0m\u001b[0;34m=\u001b[0m\u001b[0;36m4\u001b[0m\u001b[0;34m,\u001b[0m\u001b[0;34m\u001b[0m\u001b[0;34m\u001b[0m\u001b[0m\n\u001b[1;32m      4\u001b[0m                     callbacks=callbacks)\n",
            "\u001b[0;32m/usr/local/lib/python3.8/dist-packages/keras/utils/traceback_utils.py\u001b[0m in \u001b[0;36merror_handler\u001b[0;34m(*args, **kwargs)\u001b[0m\n\u001b[1;32m     62\u001b[0m     \u001b[0mfiltered_tb\u001b[0m \u001b[0;34m=\u001b[0m \u001b[0;32mNone\u001b[0m\u001b[0;34m\u001b[0m\u001b[0;34m\u001b[0m\u001b[0m\n\u001b[1;32m     63\u001b[0m     \u001b[0;32mtry\u001b[0m\u001b[0;34m:\u001b[0m\u001b[0;34m\u001b[0m\u001b[0;34m\u001b[0m\u001b[0m\n\u001b[0;32m---> 64\u001b[0;31m       \u001b[0;32mreturn\u001b[0m \u001b[0mfn\u001b[0m\u001b[0;34m(\u001b[0m\u001b[0;34m*\u001b[0m\u001b[0margs\u001b[0m\u001b[0;34m,\u001b[0m \u001b[0;34m**\u001b[0m\u001b[0mkwargs\u001b[0m\u001b[0;34m)\u001b[0m\u001b[0;34m\u001b[0m\u001b[0;34m\u001b[0m\u001b[0m\n\u001b[0m\u001b[1;32m     65\u001b[0m     \u001b[0;32mexcept\u001b[0m \u001b[0mException\u001b[0m \u001b[0;32mas\u001b[0m \u001b[0me\u001b[0m\u001b[0;34m:\u001b[0m  \u001b[0;31m# pylint: disable=broad-except\u001b[0m\u001b[0;34m\u001b[0m\u001b[0;34m\u001b[0m\u001b[0m\n\u001b[1;32m     66\u001b[0m       \u001b[0mfiltered_tb\u001b[0m \u001b[0;34m=\u001b[0m \u001b[0m_process_traceback_frames\u001b[0m\u001b[0;34m(\u001b[0m\u001b[0me\u001b[0m\u001b[0;34m.\u001b[0m\u001b[0m__traceback__\u001b[0m\u001b[0;34m)\u001b[0m\u001b[0;34m\u001b[0m\u001b[0;34m\u001b[0m\u001b[0m\n",
            "\u001b[0;32m/usr/local/lib/python3.8/dist-packages/keras/engine/training.py\u001b[0m in \u001b[0;36mfit\u001b[0;34m(self, x, y, batch_size, epochs, verbose, callbacks, validation_split, validation_data, shuffle, class_weight, sample_weight, initial_epoch, steps_per_epoch, validation_steps, validation_batch_size, validation_freq, max_queue_size, workers, use_multiprocessing)\u001b[0m\n\u001b[1;32m   1407\u001b[0m                 _r=1):\n\u001b[1;32m   1408\u001b[0m               \u001b[0mcallbacks\u001b[0m\u001b[0;34m.\u001b[0m\u001b[0mon_train_batch_begin\u001b[0m\u001b[0;34m(\u001b[0m\u001b[0mstep\u001b[0m\u001b[0;34m)\u001b[0m\u001b[0;34m\u001b[0m\u001b[0;34m\u001b[0m\u001b[0m\n\u001b[0;32m-> 1409\u001b[0;31m               \u001b[0mtmp_logs\u001b[0m \u001b[0;34m=\u001b[0m \u001b[0mself\u001b[0m\u001b[0;34m.\u001b[0m\u001b[0mtrain_function\u001b[0m\u001b[0;34m(\u001b[0m\u001b[0miterator\u001b[0m\u001b[0;34m)\u001b[0m\u001b[0;34m\u001b[0m\u001b[0;34m\u001b[0m\u001b[0m\n\u001b[0m\u001b[1;32m   1410\u001b[0m               \u001b[0;32mif\u001b[0m \u001b[0mdata_handler\u001b[0m\u001b[0;34m.\u001b[0m\u001b[0mshould_sync\u001b[0m\u001b[0;34m:\u001b[0m\u001b[0;34m\u001b[0m\u001b[0;34m\u001b[0m\u001b[0m\n\u001b[1;32m   1411\u001b[0m                 \u001b[0mcontext\u001b[0m\u001b[0;34m.\u001b[0m\u001b[0masync_wait\u001b[0m\u001b[0;34m(\u001b[0m\u001b[0;34m)\u001b[0m\u001b[0;34m\u001b[0m\u001b[0;34m\u001b[0m\u001b[0m\n",
            "\u001b[0;32m/usr/local/lib/python3.8/dist-packages/tensorflow/python/util/traceback_utils.py\u001b[0m in \u001b[0;36merror_handler\u001b[0;34m(*args, **kwargs)\u001b[0m\n\u001b[1;32m    148\u001b[0m     \u001b[0mfiltered_tb\u001b[0m \u001b[0;34m=\u001b[0m \u001b[0;32mNone\u001b[0m\u001b[0;34m\u001b[0m\u001b[0;34m\u001b[0m\u001b[0m\n\u001b[1;32m    149\u001b[0m     \u001b[0;32mtry\u001b[0m\u001b[0;34m:\u001b[0m\u001b[0;34m\u001b[0m\u001b[0;34m\u001b[0m\u001b[0m\n\u001b[0;32m--> 150\u001b[0;31m       \u001b[0;32mreturn\u001b[0m \u001b[0mfn\u001b[0m\u001b[0;34m(\u001b[0m\u001b[0;34m*\u001b[0m\u001b[0margs\u001b[0m\u001b[0;34m,\u001b[0m \u001b[0;34m**\u001b[0m\u001b[0mkwargs\u001b[0m\u001b[0;34m)\u001b[0m\u001b[0;34m\u001b[0m\u001b[0;34m\u001b[0m\u001b[0m\n\u001b[0m\u001b[1;32m    151\u001b[0m     \u001b[0;32mexcept\u001b[0m \u001b[0mException\u001b[0m \u001b[0;32mas\u001b[0m \u001b[0me\u001b[0m\u001b[0;34m:\u001b[0m\u001b[0;34m\u001b[0m\u001b[0;34m\u001b[0m\u001b[0m\n\u001b[1;32m    152\u001b[0m       \u001b[0mfiltered_tb\u001b[0m \u001b[0;34m=\u001b[0m \u001b[0m_process_traceback_frames\u001b[0m\u001b[0;34m(\u001b[0m\u001b[0me\u001b[0m\u001b[0;34m.\u001b[0m\u001b[0m__traceback__\u001b[0m\u001b[0;34m)\u001b[0m\u001b[0;34m\u001b[0m\u001b[0;34m\u001b[0m\u001b[0m\n",
            "\u001b[0;32m/usr/local/lib/python3.8/dist-packages/tensorflow/python/eager/def_function.py\u001b[0m in \u001b[0;36m__call__\u001b[0;34m(self, *args, **kwds)\u001b[0m\n\u001b[1;32m    913\u001b[0m \u001b[0;34m\u001b[0m\u001b[0m\n\u001b[1;32m    914\u001b[0m       \u001b[0;32mwith\u001b[0m \u001b[0mOptionalXlaContext\u001b[0m\u001b[0;34m(\u001b[0m\u001b[0mself\u001b[0m\u001b[0;34m.\u001b[0m\u001b[0m_jit_compile\u001b[0m\u001b[0;34m)\u001b[0m\u001b[0;34m:\u001b[0m\u001b[0;34m\u001b[0m\u001b[0;34m\u001b[0m\u001b[0m\n\u001b[0;32m--> 915\u001b[0;31m         \u001b[0mresult\u001b[0m \u001b[0;34m=\u001b[0m \u001b[0mself\u001b[0m\u001b[0;34m.\u001b[0m\u001b[0m_call\u001b[0m\u001b[0;34m(\u001b[0m\u001b[0;34m*\u001b[0m\u001b[0margs\u001b[0m\u001b[0;34m,\u001b[0m \u001b[0;34m**\u001b[0m\u001b[0mkwds\u001b[0m\u001b[0;34m)\u001b[0m\u001b[0;34m\u001b[0m\u001b[0;34m\u001b[0m\u001b[0m\n\u001b[0m\u001b[1;32m    916\u001b[0m \u001b[0;34m\u001b[0m\u001b[0m\n\u001b[1;32m    917\u001b[0m       \u001b[0mnew_tracing_count\u001b[0m \u001b[0;34m=\u001b[0m \u001b[0mself\u001b[0m\u001b[0;34m.\u001b[0m\u001b[0mexperimental_get_tracing_count\u001b[0m\u001b[0;34m(\u001b[0m\u001b[0;34m)\u001b[0m\u001b[0;34m\u001b[0m\u001b[0;34m\u001b[0m\u001b[0m\n",
            "\u001b[0;32m/usr/local/lib/python3.8/dist-packages/tensorflow/python/eager/def_function.py\u001b[0m in \u001b[0;36m_call\u001b[0;34m(self, *args, **kwds)\u001b[0m\n\u001b[1;32m    945\u001b[0m       \u001b[0;31m# In this case we have created variables on the first call, so we run the\u001b[0m\u001b[0;34m\u001b[0m\u001b[0;34m\u001b[0m\u001b[0;34m\u001b[0m\u001b[0m\n\u001b[1;32m    946\u001b[0m       \u001b[0;31m# defunned version which is guaranteed to never create variables.\u001b[0m\u001b[0;34m\u001b[0m\u001b[0;34m\u001b[0m\u001b[0;34m\u001b[0m\u001b[0m\n\u001b[0;32m--> 947\u001b[0;31m       \u001b[0;32mreturn\u001b[0m \u001b[0mself\u001b[0m\u001b[0;34m.\u001b[0m\u001b[0m_stateless_fn\u001b[0m\u001b[0;34m(\u001b[0m\u001b[0;34m*\u001b[0m\u001b[0margs\u001b[0m\u001b[0;34m,\u001b[0m \u001b[0;34m**\u001b[0m\u001b[0mkwds\u001b[0m\u001b[0;34m)\u001b[0m  \u001b[0;31m# pylint: disable=not-callable\u001b[0m\u001b[0;34m\u001b[0m\u001b[0;34m\u001b[0m\u001b[0m\n\u001b[0m\u001b[1;32m    948\u001b[0m     \u001b[0;32melif\u001b[0m \u001b[0mself\u001b[0m\u001b[0;34m.\u001b[0m\u001b[0m_stateful_fn\u001b[0m \u001b[0;32mis\u001b[0m \u001b[0;32mnot\u001b[0m \u001b[0;32mNone\u001b[0m\u001b[0;34m:\u001b[0m\u001b[0;34m\u001b[0m\u001b[0;34m\u001b[0m\u001b[0m\n\u001b[1;32m    949\u001b[0m       \u001b[0;31m# Release the lock early so that multiple threads can perform the call\u001b[0m\u001b[0;34m\u001b[0m\u001b[0;34m\u001b[0m\u001b[0;34m\u001b[0m\u001b[0m\n",
            "\u001b[0;32m/usr/local/lib/python3.8/dist-packages/tensorflow/python/eager/function.py\u001b[0m in \u001b[0;36m__call__\u001b[0;34m(self, *args, **kwargs)\u001b[0m\n\u001b[1;32m   2451\u001b[0m       (graph_function,\n\u001b[1;32m   2452\u001b[0m        filtered_flat_args) = self._maybe_define_function(args, kwargs)\n\u001b[0;32m-> 2453\u001b[0;31m     return graph_function._call_flat(\n\u001b[0m\u001b[1;32m   2454\u001b[0m         filtered_flat_args, captured_inputs=graph_function.captured_inputs)  # pylint: disable=protected-access\n\u001b[1;32m   2455\u001b[0m \u001b[0;34m\u001b[0m\u001b[0m\n",
            "\u001b[0;32m/usr/local/lib/python3.8/dist-packages/tensorflow/python/eager/function.py\u001b[0m in \u001b[0;36m_call_flat\u001b[0;34m(self, args, captured_inputs, cancellation_manager)\u001b[0m\n\u001b[1;32m   1858\u001b[0m         and executing_eagerly):\n\u001b[1;32m   1859\u001b[0m       \u001b[0;31m# No tape is watching; skip to running the function.\u001b[0m\u001b[0;34m\u001b[0m\u001b[0;34m\u001b[0m\u001b[0;34m\u001b[0m\u001b[0m\n\u001b[0;32m-> 1860\u001b[0;31m       return self._build_call_outputs(self._inference_function.call(\n\u001b[0m\u001b[1;32m   1861\u001b[0m           ctx, args, cancellation_manager=cancellation_manager))\n\u001b[1;32m   1862\u001b[0m     forward_backward = self._select_forward_and_backward_functions(\n",
            "\u001b[0;32m/usr/local/lib/python3.8/dist-packages/tensorflow/python/eager/function.py\u001b[0m in \u001b[0;36mcall\u001b[0;34m(self, ctx, args, cancellation_manager)\u001b[0m\n\u001b[1;32m    495\u001b[0m       \u001b[0;32mwith\u001b[0m \u001b[0m_InterpolateFunctionError\u001b[0m\u001b[0;34m(\u001b[0m\u001b[0mself\u001b[0m\u001b[0;34m)\u001b[0m\u001b[0;34m:\u001b[0m\u001b[0;34m\u001b[0m\u001b[0;34m\u001b[0m\u001b[0m\n\u001b[1;32m    496\u001b[0m         \u001b[0;32mif\u001b[0m \u001b[0mcancellation_manager\u001b[0m \u001b[0;32mis\u001b[0m \u001b[0;32mNone\u001b[0m\u001b[0;34m:\u001b[0m\u001b[0;34m\u001b[0m\u001b[0;34m\u001b[0m\u001b[0m\n\u001b[0;32m--> 497\u001b[0;31m           outputs = execute.execute(\n\u001b[0m\u001b[1;32m    498\u001b[0m               \u001b[0mstr\u001b[0m\u001b[0;34m(\u001b[0m\u001b[0mself\u001b[0m\u001b[0;34m.\u001b[0m\u001b[0msignature\u001b[0m\u001b[0;34m.\u001b[0m\u001b[0mname\u001b[0m\u001b[0;34m)\u001b[0m\u001b[0;34m,\u001b[0m\u001b[0;34m\u001b[0m\u001b[0;34m\u001b[0m\u001b[0m\n\u001b[1;32m    499\u001b[0m               \u001b[0mnum_outputs\u001b[0m\u001b[0;34m=\u001b[0m\u001b[0mself\u001b[0m\u001b[0;34m.\u001b[0m\u001b[0m_num_outputs\u001b[0m\u001b[0;34m,\u001b[0m\u001b[0;34m\u001b[0m\u001b[0;34m\u001b[0m\u001b[0m\n",
            "\u001b[0;32m/usr/local/lib/python3.8/dist-packages/tensorflow/python/eager/execute.py\u001b[0m in \u001b[0;36mquick_execute\u001b[0;34m(op_name, num_outputs, inputs, attrs, ctx, name)\u001b[0m\n\u001b[1;32m     52\u001b[0m   \u001b[0;32mtry\u001b[0m\u001b[0;34m:\u001b[0m\u001b[0;34m\u001b[0m\u001b[0;34m\u001b[0m\u001b[0m\n\u001b[1;32m     53\u001b[0m     \u001b[0mctx\u001b[0m\u001b[0;34m.\u001b[0m\u001b[0mensure_initialized\u001b[0m\u001b[0;34m(\u001b[0m\u001b[0;34m)\u001b[0m\u001b[0;34m\u001b[0m\u001b[0;34m\u001b[0m\u001b[0m\n\u001b[0;32m---> 54\u001b[0;31m     tensors = pywrap_tfe.TFE_Py_Execute(ctx._handle, device_name, op_name,\n\u001b[0m\u001b[1;32m     55\u001b[0m                                         inputs, attrs, num_outputs)\n\u001b[1;32m     56\u001b[0m   \u001b[0;32mexcept\u001b[0m \u001b[0mcore\u001b[0m\u001b[0;34m.\u001b[0m\u001b[0m_NotOkStatusException\u001b[0m \u001b[0;32mas\u001b[0m \u001b[0me\u001b[0m\u001b[0;34m:\u001b[0m\u001b[0;34m\u001b[0m\u001b[0;34m\u001b[0m\u001b[0m\n",
            "\u001b[0;31mKeyboardInterrupt\u001b[0m: "
          ]
        }
      ]
    },
    {
      "cell_type": "code",
      "source": [
        "loss, accuracy = model.evaluate(valid_X, validation_labels, batch_size=16)\n"
      ],
      "metadata": {
        "colab": {
          "base_uri": "https://localhost:8080/"
        },
        "id": "ovlambyRwJFf",
        "outputId": "1b146d52-59aa-4ff0-d6a5-a03887a9490b"
      },
      "execution_count": null,
      "outputs": [
        {
          "output_type": "stream",
          "name": "stdout",
          "text": [
            "625/625 [==============================] - 30s 47ms/step - loss: 0.3271 - accuracy: 0.9193\n"
          ]
        }
      ]
    },
    {
      "cell_type": "code",
      "source": [
        "model.save(\"resnet_50_best_till_now\")"
      ],
      "metadata": {
        "colab": {
          "base_uri": "https://localhost:8080/"
        },
        "id": "Se2PsgGxLB34",
        "outputId": "d00e9beb-8afd-4037-81f3-d486a8f2fb9a"
      },
      "execution_count": null,
      "outputs": [
        {
          "output_type": "stream",
          "name": "stderr",
          "text": [
            "WARNING:absl:Found untraced functions such as _jit_compiled_convolution_op, _jit_compiled_convolution_op, _jit_compiled_convolution_op, _jit_compiled_convolution_op, _jit_compiled_convolution_op while saving (showing 5 of 53). These functions will not be directly callable after loading.\n"
          ]
        }
      ]
    },
    {
      "cell_type": "code",
      "source": [
        "!zip -r /content/resnet_50_best_till_now /content/resnet_50_best_till_now\n",
        "# files.download(\"/content/resnet_50_best_till_now.zip\")\n"
      ],
      "metadata": {
        "colab": {
          "base_uri": "https://localhost:8080/",
          "height": 329
        },
        "id": "vYreVocyLuGk",
        "outputId": "7b0042c8-acf5-4e95-bff1-1d52b6f72564"
      },
      "execution_count": null,
      "outputs": [
        {
          "output_type": "stream",
          "name": "stdout",
          "text": [
            "  adding: content/resnet_50_best_till_now/ (stored 0%)\n",
            "  adding: content/resnet_50_best_till_now/saved_model.pb (deflated 92%)\n",
            "  adding: content/resnet_50_best_till_now/variables/ (stored 0%)\n",
            "  adding: content/resnet_50_best_till_now/variables/variables.data-00000-of-00001 (deflated 7%)\n",
            "  adding: content/resnet_50_best_till_now/variables/variables.index (deflated 77%)\n",
            "  adding: content/resnet_50_best_till_now/keras_metadata.pb (deflated 96%)\n",
            "  adding: content/resnet_50_best_till_now/assets/ (stored 0%)\n"
          ]
        },
        {
          "output_type": "error",
          "ename": "NameError",
          "evalue": "ignored",
          "traceback": [
            "\u001b[0;31m---------------------------------------------------------------------------\u001b[0m",
            "\u001b[0;31mNameError\u001b[0m                                 Traceback (most recent call last)",
            "\u001b[0;32m<ipython-input-25-1a1015b3d9e3>\u001b[0m in \u001b[0;36m<module>\u001b[0;34m\u001b[0m\n\u001b[1;32m      1\u001b[0m \u001b[0mget_ipython\u001b[0m\u001b[0;34m(\u001b[0m\u001b[0;34m)\u001b[0m\u001b[0;34m.\u001b[0m\u001b[0msystem\u001b[0m\u001b[0;34m(\u001b[0m\u001b[0;34m'zip -r /content/resnet_50_best_till_now /content/resnet_50_best_till_now'\u001b[0m\u001b[0;34m)\u001b[0m\u001b[0;34m\u001b[0m\u001b[0;34m\u001b[0m\u001b[0m\n\u001b[0;32m----> 2\u001b[0;31m \u001b[0mfiles\u001b[0m\u001b[0;34m.\u001b[0m\u001b[0mdownload\u001b[0m\u001b[0;34m(\u001b[0m\u001b[0;34m\"/content/resnet_50_best_till_now.zip\"\u001b[0m\u001b[0;34m)\u001b[0m\u001b[0;34m\u001b[0m\u001b[0;34m\u001b[0m\u001b[0m\n\u001b[0m\u001b[1;32m      3\u001b[0m \u001b[0mmodel\u001b[0m\u001b[0;34m=\u001b[0m\u001b[0mload_model\u001b[0m\u001b[0;34m(\u001b[0m\u001b[0;34m\"/content/resnet_50_best_till_now\"\u001b[0m\u001b[0;34m)\u001b[0m\u001b[0;34m\u001b[0m\u001b[0;34m\u001b[0m\u001b[0m\n",
            "\u001b[0;31mNameError\u001b[0m: name 'files' is not defined"
          ]
        }
      ]
    },
    {
      "cell_type": "code",
      "source": [
        "model=load_model(\"/content/resnet_50_best_till_now\")\n"
      ],
      "metadata": {
        "id": "WqScOaQXn0u3"
      },
      "execution_count": null,
      "outputs": []
    },
    {
      "cell_type": "code",
      "source": [],
      "metadata": {
        "id": "pybaWP2zyEyB"
      },
      "execution_count": null,
      "outputs": []
    },
    {
      "cell_type": "code",
      "source": [
        "class Sampling:\n",
        "  \n",
        "  def __init__(self, samplingtype, dataset, model, goal, jump, first, epochs, type, X_train=train_X, y_train=training_labels, X_test=valid_X, y_test=validation_labels):\n",
        "  \n",
        "    self.samplingtype = samplingtype\n",
        "    # self.model = model\n",
        "    self.dataset = dataset\n",
        "    self.goal = goal\n",
        "    self.epochs=epochs\n",
        "    self.jump = jump\n",
        "    self.type=type\n",
        "    # self.resnet = resnet\n",
        "    self.first = first\n",
        "    # if()\n",
        "    self.model=model\n",
        "\n",
        "\n",
        "    if(self.type==\"resnet\"):\n",
        "      self.X_train = train_X\n",
        "      self.y_train = training_labels\n",
        "      self.X_test = valid_X\n",
        "      self.y_test = validation_labels\n",
        "      # y_train = to_categorical(y_train,num_classes=10)\n",
        "      # y_test = to_categorical(y_test,num_classes=10)  \n",
        "\n",
        "    else:\n",
        "      if(dataset==\"cifar10\"):\n",
        "        (self.X_train, self.y_train) , (self.X_test, self.y_test) = keras.datasets.cifar10.load_data()\n",
        "        print(self.X_train.shape)\n",
        "        print(self.y_train.shape)\n",
        "\n",
        "      elif(dataset==\"mnist\"):\n",
        "        (self.X_train, self.y_train) , (self.X_test, self.y_test) = keras.datasets.mnist.load_data()\n",
        "      elif(dataset==\"imdb\"):\n",
        "        (self.X_train, self.y_train), (self.X_test, self.y_test) = keras.datasets.imdb.load_data(num_words=30000)\n",
        "      else:\n",
        "        print(\"Input error!\")\n",
        "\n",
        "    if(samplingtype==\"random\"):\n",
        "      random_num = np.random.randint(self.first,self.X_train.shape[0],size=self.X_train.shape[0]-self.first)\n",
        "      self.random_num= random_num\n",
        "\n",
        "\n",
        "  def lr_schedule(epoch):\n",
        "    lr = 1e-3\n",
        "    if epoch > 180:\n",
        "      lr *= 0.5e-3\n",
        "    elif epoch > 160:\n",
        "      lr *= 1e-3\n",
        "    elif epoch > 120:\n",
        "      lr *= 1e-2\n",
        "    elif epoch > 80:\n",
        "      lr *= 1e-1\n",
        "    print('Learning rate: ', lr)\n",
        "    return lr\n",
        "\n",
        "  def get_iterations_rs(self):\n",
        "    \n",
        "    e=[0,0]\n",
        "    \n",
        "    k=0\n",
        "    \n",
        "    num=0\n",
        "    \n",
        "    y=[]\n",
        "    x=[]\n",
        "    for i in range(0,self.first):\n",
        "      y.append(self.y_train[i])\n",
        "      x.append(self.X_train[i])\n",
        "    \n",
        "    while((e[1]<self.goal/100)&(k+self.jump<self.X_train.shape[0])):\n",
        "\n",
        "        for i in range(0+k,self.jump+k):\n",
        "            x.append(self.X_train[self.random_num[i]])\n",
        "            y.append(self.y_train[self.random_num[i]])\n",
        "         \n",
        "        k=k+self.jump\n",
        "        num=num+1\n",
        "        \n",
        "        self.model.fit(np.array(x), np.array(y), epochs=250)\n",
        "        \n",
        "        e = self.model.evaluate(self.X_test, self.y_test)\n",
        "    \n",
        "    return e[1],num\n",
        "\n",
        "\n",
        "  def get_entropy(self,y_predicted_en):\n",
        "    sum_prob = 0\n",
        "    entropy = []\n",
        "\n",
        "    for i in range(0,y_predicted_en.shape[0]):\n",
        "        for j in range(0,y_predicted_en.shape[1]):\n",
        "          if(y_predicted_en[i][j]==0):\n",
        "            continue\n",
        "          k = y_predicted_en[i][j]*math.log(y_predicted_en[i][j])\n",
        "          sum_prob = sum_prob+k\n",
        "        entropy.append([int(i),-(sum_prob)])\n",
        "        sum_prob=0\n",
        "        k=0\n",
        "    \n",
        "    entropy.sort(key=lambda x:x[1],reverse=True)\n",
        "    \n",
        "    return entropy\n",
        "\n",
        "  def get_lc(self,y_predicted_lc):\n",
        "    probarray = []\n",
        "    \n",
        "    for i in range(0,y_predicted_lc.shape[0]):\n",
        "        probarray.append([int(i),np.max(y_predicted_lc[i])])\n",
        "\n",
        "    probarray.sort(key=lambda x:x[1])\n",
        "    \n",
        "    return probarray\n",
        "\n",
        "  def get_ratio(self,y_predicted_r):\n",
        "    ratio_array = []\n",
        "    \n",
        "    for i in range(0,y_predicted_r.shape[0]):\n",
        "        y=y_predicted_r[i]\n",
        "        sorted(y,reverse=True)\n",
        "        first_max=y[0]\n",
        "        second_max=y[1]\n",
        "        if(second_max==0):\n",
        "          continue\n",
        "        ratio_array.append([int(i),first_max/second_max])\n",
        "\n",
        "    ratio_array.sort(key=lambda x:x[1])\n",
        "    \n",
        "    return ratio_array\n",
        "\n",
        "\n",
        "  def get_margin(self,y_predicted_margin):\n",
        "    a=[]\n",
        "    b=[]\n",
        "    for i in range(0,y_predicted_margin.shape[0]):\n",
        "        a=y_predicted_margin[i]\n",
        "        c=sorted(a,reverse=True)\n",
        "        difference=c[0]-c[1]\n",
        "        \n",
        "        b.append([int(i),difference])\n",
        "    \n",
        "    b.sort(key=lambda x:x[1])\n",
        "    \n",
        "    return b\n",
        "\n",
        "  def get_hc(self,y_predicted_hc):\n",
        "    probarray = []\n",
        "    \n",
        "    for i in range(0,y_predicted_hc.shape[0]):\n",
        "        probarray.append([int(i),np.max(y_predicted_hc[i])])\n",
        "\n",
        "    probarray.sort(key=lambda x:x[1],reverse=True)\n",
        "    \n",
        "    return probarray\n",
        "\n",
        "  \n",
        "  def plot_graph(self,epochs,accuracy,batch_size):\n",
        "    fig, ax1 = plt.subplots()\n",
        "\n",
        "    ax2 = ax1.twinx()\n",
        "    ax1.plot(acc[1:],ep, 'g-')\n",
        "    ax2.plot(acc[1:],b_size[1:], 'b-')\n",
        "\n",
        "    ax1.set_xlabel('accuracy')\n",
        "    ax1.set_ylabel('iterations', color='g')\n",
        "    ax2.set_ylabel('sample size', color='b')\n",
        "\n",
        "    plt.show()\n",
        "\n",
        "\n",
        "  def get_iterations(self):\n",
        "\n",
        "    checkpoint = keras.callbacks.ModelCheckpoint(\"AL_Model.h5\", save_best_only=True, verbose=1)\n",
        "\n",
        "    early_stopping = keras.callbacks.EarlyStopping(patience=10, verbose=1)\n",
        "   \n",
        "    es = EarlyStopping(monitor='val_accuracy', mode='max', patience=10, restore_best_weights=True)\n",
        "\n",
        "    lr_scheduler = LearningRateScheduler(lr_schedule)\n",
        "    lr_reducer = ReduceLROnPlateau(factor=np.sqrt(0.1),\n",
        "                               cooldown=0,\n",
        "                               patience=5,\n",
        "                               min_lr=0.5e-6)\n",
        "\n",
        "    callbacks = [checkpoint, lr_reducer, lr_scheduler, es]\n",
        "\n",
        "    if((self.type==\"vgg\") or (self.type==\"mobilenet\") or (self.type==\"cnn\")):\n",
        "      self.model.fit(self.X_train[0:self.first], self.y_train[0:self.first], epochs=50, validation_split=0.2, callbacks=[es])\n",
        "      self.model.evaluate(self.X_test,self.y_test)  \n",
        "\n",
        "# validation_data=(self.X_train[self.first-7500:self.first],self.y_train[self.first-7500:self.first]\n",
        "\n",
        "    emetrics=[0,0]\n",
        "    \n",
        "    num=0\n",
        "\n",
        "    if(self.samplingtype==\"random\"):\n",
        "      emetrics[1],num = self.get_iterations_rs()\n",
        "\n",
        "      return emetrics[1],num\n",
        "      \n",
        "\n",
        "\n",
        "    X_train_copy=self.X_train[self.first:self.X_train.shape[0]]\n",
        "    y_train_copy=self.y_train[self.first:self.X_train.shape[0]]\n",
        "\n",
        "    batch_size=[]\n",
        "    acc=[]\n",
        "    ep=[]\n",
        "\n",
        "    batch_size.append(0)\n",
        "    acc.append(0)\n",
        "    \n",
        "    y=[]\n",
        "    x=[]\n",
        "\n",
        "    for i in range(0,self.first):\n",
        "      y.append(self.y_train[i])\n",
        "      x.append(self.X_train[i])\n",
        "    \n",
        "    while((emetrics[1]<self.goal/100)&(self.jump<=X_train_copy.shape[0])):\n",
        "        \n",
        "        total_index=[*range(0, X_train_copy.shape[0], 1)]\n",
        "        y_predicted = self.model.predict(X_train_copy)\n",
        "\n",
        "        if(self.samplingtype==\"margin\"):\n",
        "          values = self.get_margin(y_predicted)\n",
        "        elif(self.samplingtype==\"leastconfidence\"):\n",
        "          values = self.get_lc(y_predicted)\n",
        "        elif(self.samplingtype==\"highestconfidence\"):\n",
        "          values = self.get_hc(y_predicted)\n",
        "        elif(self.samplingtype==\"entropy\"):\n",
        "          values = self.get_entropy(y_predicted)\n",
        "        elif(self.samplingtype==\"ratio\"):\n",
        "          values = self.get_ratio(y_predicted)\n",
        "        else:\n",
        "          print(\"Input Error.\")\n",
        "    \n",
        "        index = []\n",
        "    \n",
        "        for i in range(0,self.jump):\n",
        "            index.append(values[i][0])\n",
        "            x.append(X_train_copy[values[i][0]])\n",
        "            y.append(y_train_copy[values[i][0]])\n",
        "         \n",
        "        num=num+1\n",
        "\n",
        "        # fit_generator(datagen.flow(\n",
        "\n",
        "        if(self.type==\"resnet\"):\n",
        "          self.model.fit(np.array(x), np.array(y), epochs=250, validation_data = (valid_X, validation_labels), callbacks=[checkpoint,early_stopping], workers=4)\n",
        "            \n",
        "        elif((self.type==\"vgg\") or (self.type==\"mobilenet\")):\n",
        "          self.model.fit(np.array(x), np.array(y), epochs=250, validation_split=0.2, batch_size=16, callbacks=[es])\n",
        "\n",
        "        else:\n",
        "          self.model.fit(np.array(x), np.array(y), epochs=250, validation_split=0.2, callbacks=[es])\n",
        "\n",
        "        batch_size.append(np.array(x).shape[0])\n",
        "        ep.append(num)\n",
        "        \n",
        "        emetrics = self.model.evaluate(self.X_test, self.y_test)\n",
        "        print(emetrics)\n",
        "        acc.append(100*float(emetrics[1]))\n",
        "\n",
        "        a=[]\n",
        "        for element in total_index:\n",
        "          if element not in index:\n",
        "            a.append(element)\n",
        "\n",
        "        X_train_copy=X_train_copy[a]\n",
        "        y_train_copy=y_train_copy[a]\n",
        "      \n",
        "    return emetrics[1],ep,batch_size,acc\n"
      ],
      "metadata": {
        "id": "ry1vIPKTyE5I"
      },
      "execution_count": null,
      "outputs": []
    },
    {
      "cell_type": "code",
      "source": [],
      "metadata": {
        "id": "mpcoUx-WyRgm"
      },
      "execution_count": null,
      "outputs": []
    },
    {
      "cell_type": "code",
      "source": [
        "s = Sampling(\"leastconfidence\",\"cifar10\",model,95,5000,10000,250,\"resnet\")"
      ],
      "metadata": {
        "id": "YbsZ7IOxyRj9"
      },
      "execution_count": null,
      "outputs": []
    },
    {
      "cell_type": "code",
      "source": [
        "e,ep,b_size,acc = s.get_iterations()"
      ],
      "metadata": {
        "colab": {
          "base_uri": "https://localhost:8080/"
        },
        "id": "7sPGb3rDyTQq",
        "outputId": "792a0e43-c22c-42cc-b947-e9745d4f4663"
      },
      "execution_count": null,
      "outputs": [
        {
          "output_type": "stream",
          "name": "stdout",
          "text": [
            "1250/1250 [==============================] - 109s 88ms/step\n",
            "Epoch 1/250\n",
            "469/469 [==============================] - ETA: 0s - loss: 0.3949 - accuracy: 0.8622\n",
            "Epoch 1: val_loss improved from inf to 0.25055, saving model to AL_Model.h5\n",
            "469/469 [==============================] - 199s 416ms/step - loss: 0.3949 - accuracy: 0.8622 - val_loss: 0.2505 - val_accuracy: 0.9236\n",
            "Epoch 2/250\n",
            "469/469 [==============================] - ETA: 0s - loss: 0.1733 - accuracy: 0.9374\n",
            "Epoch 2: val_loss improved from 0.25055 to 0.22160, saving model to AL_Model.h5\n",
            "469/469 [==============================] - 179s 382ms/step - loss: 0.1733 - accuracy: 0.9374 - val_loss: 0.2216 - val_accuracy: 0.9353\n",
            "Epoch 3/250\n",
            "469/469 [==============================] - ETA: 0s - loss: 0.1036 - accuracy: 0.9649\n",
            "Epoch 3: val_loss did not improve from 0.22160\n",
            "469/469 [==============================] - 178s 381ms/step - loss: 0.1036 - accuracy: 0.9649 - val_loss: 0.2254 - val_accuracy: 0.9356\n",
            "Epoch 4/250\n",
            "469/469 [==============================] - ETA: 0s - loss: 0.0680 - accuracy: 0.9797\n",
            "Epoch 4: val_loss did not improve from 0.22160\n",
            "469/469 [==============================] - 178s 380ms/step - loss: 0.0680 - accuracy: 0.9797 - val_loss: 0.2233 - val_accuracy: 0.9366\n",
            "Epoch 5/250\n",
            "469/469 [==============================] - ETA: 0s - loss: 0.0476 - accuracy: 0.9875\n",
            "Epoch 5: val_loss did not improve from 0.22160\n",
            "469/469 [==============================] - 192s 410ms/step - loss: 0.0476 - accuracy: 0.9875 - val_loss: 0.2219 - val_accuracy: 0.9347\n",
            "Epoch 6/250\n",
            "469/469 [==============================] - ETA: 0s - loss: 0.0375 - accuracy: 0.9923\n",
            "Epoch 6: val_loss improved from 0.22160 to 0.22053, saving model to AL_Model.h5\n",
            "469/469 [==============================] - 179s 382ms/step - loss: 0.0375 - accuracy: 0.9923 - val_loss: 0.2205 - val_accuracy: 0.9386\n",
            "Epoch 7/250\n",
            "469/469 [==============================] - ETA: 0s - loss: 0.0308 - accuracy: 0.9944\n",
            "Epoch 7: val_loss did not improve from 0.22053\n",
            "469/469 [==============================] - 192s 410ms/step - loss: 0.0308 - accuracy: 0.9944 - val_loss: 0.2259 - val_accuracy: 0.9367\n",
            "Epoch 8/250\n",
            "469/469 [==============================] - ETA: 0s - loss: 0.0252 - accuracy: 0.9957\n",
            "Epoch 8: val_loss did not improve from 0.22053\n",
            "469/469 [==============================] - 179s 381ms/step - loss: 0.0252 - accuracy: 0.9957 - val_loss: 0.2278 - val_accuracy: 0.9375\n",
            "Epoch 9/250\n",
            "469/469 [==============================] - ETA: 0s - loss: 0.0201 - accuracy: 0.9967\n",
            "Epoch 9: val_loss did not improve from 0.22053\n",
            "469/469 [==============================] - 178s 381ms/step - loss: 0.0201 - accuracy: 0.9967 - val_loss: 0.2259 - val_accuracy: 0.9380\n",
            "Epoch 10/250\n",
            "469/469 [==============================] - ETA: 0s - loss: 0.0177 - accuracy: 0.9973\n",
            "Epoch 10: val_loss did not improve from 0.22053\n",
            "469/469 [==============================] - 178s 380ms/step - loss: 0.0177 - accuracy: 0.9973 - val_loss: 0.2280 - val_accuracy: 0.9369\n",
            "Epoch 11/250\n",
            "469/469 [==============================] - ETA: 0s - loss: 0.0152 - accuracy: 0.9987\n",
            "Epoch 11: val_loss did not improve from 0.22053\n",
            "469/469 [==============================] - 178s 380ms/step - loss: 0.0152 - accuracy: 0.9987 - val_loss: 0.2294 - val_accuracy: 0.9385\n",
            "Epoch 12/250\n",
            "469/469 [==============================] - ETA: 0s - loss: 0.0148 - accuracy: 0.9985\n",
            "Epoch 12: val_loss did not improve from 0.22053\n",
            "469/469 [==============================] - 178s 381ms/step - loss: 0.0148 - accuracy: 0.9985 - val_loss: 0.2318 - val_accuracy: 0.9377\n",
            "Epoch 13/250\n",
            "469/469 [==============================] - ETA: 0s - loss: 0.0129 - accuracy: 0.9984\n",
            "Epoch 13: val_loss did not improve from 0.22053\n",
            "469/469 [==============================] - 192s 410ms/step - loss: 0.0129 - accuracy: 0.9984 - val_loss: 0.2318 - val_accuracy: 0.9379\n",
            "Epoch 14/250\n",
            "469/469 [==============================] - ETA: 0s - loss: 0.0112 - accuracy: 0.9988\n",
            "Epoch 14: val_loss did not improve from 0.22053\n",
            "469/469 [==============================] - 179s 381ms/step - loss: 0.0112 - accuracy: 0.9988 - val_loss: 0.2334 - val_accuracy: 0.9376\n",
            "Epoch 15/250\n",
            "469/469 [==============================] - ETA: 0s - loss: 0.0099 - accuracy: 0.9992\n",
            "Epoch 15: val_loss did not improve from 0.22053\n",
            "469/469 [==============================] - 179s 381ms/step - loss: 0.0099 - accuracy: 0.9992 - val_loss: 0.2342 - val_accuracy: 0.9385\n",
            "Epoch 16/250\n",
            "469/469 [==============================] - ETA: 0s - loss: 0.0105 - accuracy: 0.9989\n",
            "Epoch 16: val_loss did not improve from 0.22053\n",
            "469/469 [==============================] - 179s 381ms/step - loss: 0.0105 - accuracy: 0.9989 - val_loss: 0.2367 - val_accuracy: 0.9391\n",
            "Epoch 16: early stopping\n",
            "313/313 [==============================] - 28s 90ms/step - loss: 0.2367 - accuracy: 0.9391\n",
            "[0.23665769398212433, 0.9391000270843506]\n",
            "1094/1094 [==============================] - 96s 87ms/step\n",
            "Epoch 1/250\n",
            "625/625 [==============================] - ETA: 0s - loss: 0.1686 - accuracy: 0.9527\n",
            "Epoch 1: val_loss improved from 0.22053 to 0.21106, saving model to AL_Model.h5\n",
            "625/625 [==============================] - 230s 368ms/step - loss: 0.1686 - accuracy: 0.9527 - val_loss: 0.2111 - val_accuracy: 0.9409\n",
            "Epoch 2/250\n",
            "625/625 [==============================] - ETA: 0s - loss: 0.0749 - accuracy: 0.9773\n",
            "Epoch 2: val_loss improved from 0.21106 to 0.20138, saving model to AL_Model.h5\n",
            "625/625 [==============================] - 230s 368ms/step - loss: 0.0749 - accuracy: 0.9773 - val_loss: 0.2014 - val_accuracy: 0.9431\n",
            "Epoch 3/250\n",
            "625/625 [==============================] - ETA: 0s - loss: 0.0438 - accuracy: 0.9880\n",
            "Epoch 3: val_loss improved from 0.20138 to 0.19649, saving model to AL_Model.h5\n",
            "625/625 [==============================] - 230s 368ms/step - loss: 0.0438 - accuracy: 0.9880 - val_loss: 0.1965 - val_accuracy: 0.9440\n",
            "Epoch 4/250\n",
            "625/625 [==============================] - ETA: 0s - loss: 0.0339 - accuracy: 0.9919\n",
            "Epoch 4: val_loss did not improve from 0.19649\n",
            "625/625 [==============================] - 229s 367ms/step - loss: 0.0339 - accuracy: 0.9919 - val_loss: 0.2038 - val_accuracy: 0.9456\n",
            "Epoch 5/250\n",
            "625/625 [==============================] - ETA: 0s - loss: 0.0244 - accuracy: 0.9952\n",
            "Epoch 5: val_loss did not improve from 0.19649\n",
            "625/625 [==============================] - 243s 389ms/step - loss: 0.0244 - accuracy: 0.9952 - val_loss: 0.2033 - val_accuracy: 0.9461\n",
            "Epoch 6/250\n",
            "625/625 [==============================] - ETA: 0s - loss: 0.0195 - accuracy: 0.9959\n",
            "Epoch 6: val_loss did not improve from 0.19649\n",
            "625/625 [==============================] - 229s 367ms/step - loss: 0.0195 - accuracy: 0.9959 - val_loss: 0.2074 - val_accuracy: 0.9450\n",
            "Epoch 7/250\n",
            "625/625 [==============================] - ETA: 0s - loss: 0.0166 - accuracy: 0.9966\n",
            "Epoch 7: val_loss did not improve from 0.19649\n",
            "625/625 [==============================] - 229s 367ms/step - loss: 0.0166 - accuracy: 0.9966 - val_loss: 0.2088 - val_accuracy: 0.9453\n",
            "Epoch 8/250\n",
            "625/625 [==============================] - ETA: 0s - loss: 0.0151 - accuracy: 0.9976\n",
            "Epoch 8: val_loss did not improve from 0.19649\n",
            "625/625 [==============================] - 229s 367ms/step - loss: 0.0151 - accuracy: 0.9976 - val_loss: 0.2128 - val_accuracy: 0.9443\n",
            "Epoch 9/250\n",
            "625/625 [==============================] - ETA: 0s - loss: 0.0127 - accuracy: 0.9981\n",
            "Epoch 9: val_loss did not improve from 0.19649\n",
            "625/625 [==============================] - 243s 389ms/step - loss: 0.0127 - accuracy: 0.9981 - val_loss: 0.2147 - val_accuracy: 0.9458\n",
            "Epoch 10/250\n",
            "625/625 [==============================] - ETA: 0s - loss: 0.0106 - accuracy: 0.9989\n",
            "Epoch 10: val_loss did not improve from 0.19649\n",
            "625/625 [==============================] - 229s 367ms/step - loss: 0.0106 - accuracy: 0.9989 - val_loss: 0.2187 - val_accuracy: 0.9439\n",
            "Epoch 11/250\n",
            "625/625 [==============================] - ETA: 0s - loss: 0.0090 - accuracy: 0.9990\n",
            "Epoch 11: val_loss did not improve from 0.19649\n",
            "625/625 [==============================] - 229s 367ms/step - loss: 0.0090 - accuracy: 0.9990 - val_loss: 0.2169 - val_accuracy: 0.9457\n",
            "Epoch 12/250\n",
            "625/625 [==============================] - ETA: 0s - loss: 0.0094 - accuracy: 0.9986\n",
            "Epoch 12: val_loss did not improve from 0.19649\n",
            "625/625 [==============================] - 230s 368ms/step - loss: 0.0094 - accuracy: 0.9986 - val_loss: 0.2208 - val_accuracy: 0.9453\n",
            "Epoch 13/250\n",
            "625/625 [==============================] - ETA: 0s - loss: 0.0074 - accuracy: 0.9991\n",
            "Epoch 13: val_loss did not improve from 0.19649\n",
            "625/625 [==============================] - 230s 367ms/step - loss: 0.0074 - accuracy: 0.9991 - val_loss: 0.2195 - val_accuracy: 0.9446\n",
            "Epoch 13: early stopping\n",
            "313/313 [==============================] - 29s 91ms/step - loss: 0.2195 - accuracy: 0.9446\n",
            "[0.21954652667045593, 0.944599986076355]\n",
            "938/938 [==============================] - 81s 87ms/step\n",
            "Epoch 1/250\n",
            "782/782 [==============================] - ETA: 0s - loss: 0.0578 - accuracy: 0.9903\n",
            "Epoch 1: val_loss did not improve from 0.19649\n",
            "782/782 [==============================] - 281s 360ms/step - loss: 0.0578 - accuracy: 0.9903 - val_loss: 0.2123 - val_accuracy: 0.9458\n",
            "Epoch 2/250\n",
            "782/782 [==============================] - ETA: 0s - loss: 0.0247 - accuracy: 0.9942\n",
            "Epoch 2: val_loss did not improve from 0.19649\n",
            "782/782 [==============================] - 280s 358ms/step - loss: 0.0247 - accuracy: 0.9942 - val_loss: 0.2087 - val_accuracy: 0.9455\n",
            "Epoch 3/250\n",
            "782/782 [==============================] - ETA: 0s - loss: 0.0157 - accuracy: 0.9958\n",
            "Epoch 3: val_loss did not improve from 0.19649\n",
            "782/782 [==============================] - 280s 358ms/step - loss: 0.0157 - accuracy: 0.9958 - val_loss: 0.2130 - val_accuracy: 0.9466\n",
            "Epoch 4/250\n",
            "782/782 [==============================] - ETA: 0s - loss: 0.0111 - accuracy: 0.9982"
          ]
        }
      ]
    },
    {
      "cell_type": "code",
      "source": [],
      "metadata": {
        "id": "BNrbhPSJpfob"
      },
      "execution_count": null,
      "outputs": []
    },
    {
      "cell_type": "code",
      "source": [
        "model.save(\"resnet_50_best_till_now_after_sampling\")"
      ],
      "metadata": {
        "colab": {
          "base_uri": "https://localhost:8080/",
          "height": 169
        },
        "id": "CcU55bb-pWoL",
        "outputId": "59befef1-29db-486d-d9c7-db175afcf1d1"
      },
      "execution_count": null,
      "outputs": [
        {
          "output_type": "error",
          "ename": "NameError",
          "evalue": "ignored",
          "traceback": [
            "\u001b[0;31m---------------------------------------------------------------------------\u001b[0m",
            "\u001b[0;31mNameError\u001b[0m                                 Traceback (most recent call last)",
            "\u001b[0;32m<ipython-input-2-4ebb1d717ffe>\u001b[0m in \u001b[0;36m<module>\u001b[0;34m\u001b[0m\n\u001b[0;32m----> 1\u001b[0;31m \u001b[0mmodel\u001b[0m\u001b[0;34m.\u001b[0m\u001b[0msave\u001b[0m\u001b[0;34m(\u001b[0m\u001b[0;34m\"resnet_50_best_till_now_after_sampling\"\u001b[0m\u001b[0;34m)\u001b[0m\u001b[0;34m\u001b[0m\u001b[0;34m\u001b[0m\u001b[0m\n\u001b[0m",
            "\u001b[0;31mNameError\u001b[0m: name 'model' is not defined"
          ]
        }
      ]
    },
    {
      "cell_type": "code",
      "source": [],
      "metadata": {
        "id": "9ev-XN65PyAm"
      },
      "execution_count": null,
      "outputs": []
    },
    {
      "cell_type": "code",
      "source": [
        "!zip -r /content/resnet_50_best_till_now_after_sampling /content/resnet_50_best_till_now_after_sampling\n"
      ],
      "metadata": {
        "id": "c3O5Xba6piKg"
      },
      "execution_count": null,
      "outputs": []
    },
    {
      "cell_type": "code",
      "source": [],
      "metadata": {
        "id": "WEt0V2pXpiOq"
      },
      "execution_count": null,
      "outputs": []
    },
    {
      "cell_type": "code",
      "source": [
        "files.download(\"/content/AL_Model.h5\")"
      ],
      "metadata": {
        "id": "ikRuprhAODHG"
      },
      "execution_count": null,
      "outputs": []
    },
    {
      "cell_type": "code",
      "source": [],
      "metadata": {
        "id": "MHJ51-fHOGLD"
      },
      "execution_count": null,
      "outputs": []
    },
    {
      "cell_type": "code",
      "source": [
        "print(e)\n",
        "print(ep)\n",
        "print(b_size)\n",
        "print(max(acc))"
      ],
      "metadata": {
        "id": "O0bHIFxwOGOC"
      },
      "execution_count": null,
      "outputs": []
    },
    {
      "cell_type": "code",
      "source": [
        "plt.plot(ep,acc[1:])\n",
        "plt.ylabel(\"accuracy\")\n",
        "plt.xlabel(\"iterations\")"
      ],
      "metadata": {
        "id": "S0-TNLLvOGQV"
      },
      "execution_count": null,
      "outputs": []
    },
    {
      "cell_type": "code",
      "source": [
        "plt.plot(b_size[1:],acc[1:])\n",
        "plt.ylabel(\"accuracy\")\n",
        "plt.xlabel(\"sample size\")"
      ],
      "metadata": {
        "id": "Z7fHYG81OGSv"
      },
      "execution_count": null,
      "outputs": []
    },
    {
      "cell_type": "code",
      "source": [],
      "metadata": {
        "id": "Q3wenfAWOKpv"
      },
      "execution_count": null,
      "outputs": []
    }
  ]
}